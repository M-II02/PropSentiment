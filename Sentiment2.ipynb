{
  "cells": [
    {
      "cell_type": "markdown",
      "metadata": {
        "id": "view-in-github",
        "colab_type": "text"
      },
      "source": [
        "<a href=\"https://colab.research.google.com/github/M-II02/PropSentiment/blob/main/Sentiment2.ipynb\" target=\"_parent\"><img src=\"https://colab.research.google.com/assets/colab-badge.svg\" alt=\"Open In Colab\"/></a>"
      ]
    },
    {
      "cell_type": "code",
      "execution_count": null,
      "metadata": {
        "id": "rbBw5DJkYeos"
      },
      "outputs": [],
      "source": [
        "import csv\n",
        "import re\n",
        "import string\n",
        "!pip install preprocessor\n",
        "import preprocessor as p\n",
        "import string\n",
        "import datetime\n",
        "import numpy as np\n",
        "import pandas as pd\n",
        "\n",
        "!pip install snscrape\n",
        "import snscrape.modules.twitter as sntwitter\n",
        "!pip install vaderSentiment\n",
        "!pip install neattext\n",
        "from vaderSentiment.vaderSentiment import SentimentIntensityAnalyzer\n",
        "!pip install tweet-preprocessor\n",
        "\n",
        "from PIL import Image\n",
        "import plotly.express as px\n",
        "from nltk.corpus import wordnet\n",
        "from nltk.corpus import stopwords\n",
        "from nltk.sentiment.util import *\n",
        "from nltk.stem import WordNetLemmatizer \n",
        "from matplotlib import pyplot as plt\n",
        "\n",
        "import seaborn as sn\n",
        "np.random.seed(1)\n",
        "\n",
        "from sklearn.feature_extraction.text import CountVectorizer,TfidfVectorizer\n",
        "from sklearn.linear_model import LogisticRegression\n",
        "from sklearn.metrics import roc_auc_score, f1_score, confusion_matrix\n",
        "from sklearn.model_selection import train_test_split\n",
        "\n",
        "from sklearn.svm import SVC\n",
        "from sklearn.model_selection import GridSearchCV\n",
        "import pickle"
      ]
    },
    {
      "cell_type": "code",
      "execution_count": 2,
      "metadata": {
        "id": "OvGw5Llh08dB",
        "colab": {
          "base_uri": "https://localhost:8080/"
        },
        "outputId": "1a08ab0c-817a-4fd4-f5a5-50825f4a7687"
      },
      "outputs": [
        {
          "output_type": "stream",
          "name": "stderr",
          "text": [
            "<ipython-input-2-e880bf7ddd96>:11: FutureWarning: content is deprecated, use rawContent instead\n",
            "  tweets.append([tweet.date, tweet.url, tweet.content])\n"
          ]
        }
      ],
      "source": [
        "query = \"(#airline) until:2022-10-11 since:2022-09-01\"\n",
        "tweets = []\n",
        "limit = 50\n",
        "\n",
        "\n",
        "for tweet in sntwitter.TwitterHashtagScraper(query).get_items():\n",
        "    \n",
        "    if len(tweets) == limit:\n",
        "        break\n",
        "    else:\n",
        "        tweets.append([tweet.date, tweet.url, tweet.content])\n",
        "\n",
        "df = pd.DataFrame(tweets, columns=['Date', 'TweetURL','Tweet'])\n",
        "\n",
        "df.to_csv('extracted.csv')"
      ]
    },
    {
      "cell_type": "code",
      "execution_count": null,
      "metadata": {
        "id": "bcbNHPNJ1L0m"
      },
      "outputs": [],
      "source": [
        "df.head(50)"
      ]
    },
    {
      "cell_type": "code",
      "execution_count": null,
      "metadata": {
        "id": "JtXxQFnRAYvd"
      },
      "outputs": [],
      "source": [
        "'''def cleanTxt(Tweet):\n",
        "    text = re.sub('@[A-Za-z0–9]+', '', Tweet) #Removing @mentions\n",
        "    text = re.sub('#', '', Tweet) # Removing '#' hash tag\n",
        "    text = re.sub('RT[\\s]+', '', Tweet) # Removing RT\n",
        "    text = re.sub('https?:\\/\\/\\S+', '', Tweet) # Removing hyperlink\n",
        "    return text\n",
        "\n",
        "#applying this function to Text column of our dataframe\n",
        "df[\"Tweet\"] = df[\"Tweet\"].apply(cleanTxt)'''"
      ]
    },
    {
      "cell_type": "code",
      "execution_count": 4,
      "metadata": {
        "id": "EhL-T0ylpmcE"
      },
      "outputs": [],
      "source": [
        "def clean_text(Tweet):\n",
        "    #Remove hyper links\n",
        "    text = re.sub(r'https?:\\/\\/\\S+', ' ', Tweet)\n",
        "    \n",
        "    #Remove @mentions\n",
        "    text = re.sub(r'@[A-Za-z0-9]+', ' ', Tweet)\n",
        "    \n",
        "    #Remove anything that isn't a letter, number, or one of      the punctuation marks listed\n",
        "    text = re.sub(r\"[^A-Za-z0-9#'?!,.]+\", ' ', Tweet)   \n",
        "    \n",
        "    return text"
      ]
    },
    {
      "cell_type": "code",
      "execution_count": 5,
      "metadata": {
        "id": "lD8NOopWp4jC"
      },
      "outputs": [],
      "source": [
        "df['Tweet'] = df['Tweet'].apply(clean_text)"
      ]
    },
    {
      "cell_type": "code",
      "execution_count": 6,
      "metadata": {
        "id": "428b1FgoqFsc"
      },
      "outputs": [],
      "source": [
        "df['Tweet'] = df['Tweet'].str.lower()"
      ]
    },
    {
      "cell_type": "code",
      "execution_count": null,
      "metadata": {
        "id": "WwDLFA8TYFbd"
      },
      "outputs": [],
      "source": [
        "'''df= df.drop_duplicates()\n",
        "df['clean_Tweet']=df['Tweet'].str.lower()\n",
        "\n",
        "df['clean_Tweet'] = df['Tweet'].apply(lambda x: re.sub(r\"http\\S+\",\"\",x))\n",
        "df['clean_Tweet']=df['Tweet'].str.replace(r'\\@\\S+',\" \",regex=True)\n",
        "df['clean_Tweet']=df['Tweet'].str.replace(r'#\\S+',\" \",regex=True)\n",
        "df['clean_Tweet']=df['Tweet'].str.replace(r'\\$\\S+',\" \",regex=True)\n",
        "df['clean_Tweet']=df['Tweet'].str.replace(r'\\$\\S+',\" \",regex=True)\n",
        "df['clean_Tweet']=df['Tweet'].apply(lambda x:[w for w in x if len(w) >= 3])\n",
        "df['clean_Tweet']=df['Tweet'].apply(lambda x:\" \".join(x))'''\n"
      ]
    },
    {
      "cell_type": "code",
      "execution_count": 8,
      "metadata": {
        "colab": {
          "base_uri": "https://localhost:8080/",
          "height": 676
        },
        "id": "QsRz0v37JL-M",
        "outputId": "acfce18c-37b7-4d99-a268-e4ad5ed65148"
      },
      "outputs": [
        {
          "output_type": "execute_result",
          "data": {
            "text/plain": [
              "                                                Tweet\n",
              "0   fear of flying? businestravellife says try thi...\n",
              "1   why don t #airlines have co2 monitors displayi...\n",
              "2   record breaker belfast welcomes one of the wor...\n",
              "3    aircraft airline airport travel trip ana jal ...\n",
              "4   visit our nj career center for an onsite presc...\n",
              "5   the three seats on an airplane to never select...\n",
              "6   #heimflug in der #nacht der urlaub war so schn...\n",
              "7   american airlines cuts 31,000 flights from its...\n",
              "8   why does turbulence on a flight feel worse tha...\n",
              "9   f #vehicle #transportation #aircraft #airplane...\n",
              "10  this friday, cao will be hosting a logistics r...\n",
              "11  this airline is allowing passengers to disemba...\n",
              "12  how do we regulate our emotions? this psycholo...\n",
              "13  finance minister clydecaruana could not confir...\n",
              "14  air canada cargo expands us freighter network ...\n",
              "15  there are benefits! what are the benefits of a...\n",
              "16   https t.co ne1xv1tyqw #pia #canbe #airline ht...\n",
              "17  best fear of flying app ever. like having a pi...\n",
              "18   americanair data breach discovered in july, w...\n",
              "19  the dutch people demand a free market and not ..."
            ],
            "text/html": [
              "\n",
              "  <div id=\"df-fc293a17-4cae-4b36-b744-ca85b040cc31\">\n",
              "    <div class=\"colab-df-container\">\n",
              "      <div>\n",
              "<style scoped>\n",
              "    .dataframe tbody tr th:only-of-type {\n",
              "        vertical-align: middle;\n",
              "    }\n",
              "\n",
              "    .dataframe tbody tr th {\n",
              "        vertical-align: top;\n",
              "    }\n",
              "\n",
              "    .dataframe thead th {\n",
              "        text-align: right;\n",
              "    }\n",
              "</style>\n",
              "<table border=\"1\" class=\"dataframe\">\n",
              "  <thead>\n",
              "    <tr style=\"text-align: right;\">\n",
              "      <th></th>\n",
              "      <th>Tweet</th>\n",
              "    </tr>\n",
              "  </thead>\n",
              "  <tbody>\n",
              "    <tr>\n",
              "      <th>0</th>\n",
              "      <td>fear of flying? businestravellife says try thi...</td>\n",
              "    </tr>\n",
              "    <tr>\n",
              "      <th>1</th>\n",
              "      <td>why don t #airlines have co2 monitors displayi...</td>\n",
              "    </tr>\n",
              "    <tr>\n",
              "      <th>2</th>\n",
              "      <td>record breaker belfast welcomes one of the wor...</td>\n",
              "    </tr>\n",
              "    <tr>\n",
              "      <th>3</th>\n",
              "      <td>aircraft airline airport travel trip ana jal ...</td>\n",
              "    </tr>\n",
              "    <tr>\n",
              "      <th>4</th>\n",
              "      <td>visit our nj career center for an onsite presc...</td>\n",
              "    </tr>\n",
              "    <tr>\n",
              "      <th>5</th>\n",
              "      <td>the three seats on an airplane to never select...</td>\n",
              "    </tr>\n",
              "    <tr>\n",
              "      <th>6</th>\n",
              "      <td>#heimflug in der #nacht der urlaub war so schn...</td>\n",
              "    </tr>\n",
              "    <tr>\n",
              "      <th>7</th>\n",
              "      <td>american airlines cuts 31,000 flights from its...</td>\n",
              "    </tr>\n",
              "    <tr>\n",
              "      <th>8</th>\n",
              "      <td>why does turbulence on a flight feel worse tha...</td>\n",
              "    </tr>\n",
              "    <tr>\n",
              "      <th>9</th>\n",
              "      <td>f #vehicle #transportation #aircraft #airplane...</td>\n",
              "    </tr>\n",
              "    <tr>\n",
              "      <th>10</th>\n",
              "      <td>this friday, cao will be hosting a logistics r...</td>\n",
              "    </tr>\n",
              "    <tr>\n",
              "      <th>11</th>\n",
              "      <td>this airline is allowing passengers to disemba...</td>\n",
              "    </tr>\n",
              "    <tr>\n",
              "      <th>12</th>\n",
              "      <td>how do we regulate our emotions? this psycholo...</td>\n",
              "    </tr>\n",
              "    <tr>\n",
              "      <th>13</th>\n",
              "      <td>finance minister clydecaruana could not confir...</td>\n",
              "    </tr>\n",
              "    <tr>\n",
              "      <th>14</th>\n",
              "      <td>air canada cargo expands us freighter network ...</td>\n",
              "    </tr>\n",
              "    <tr>\n",
              "      <th>15</th>\n",
              "      <td>there are benefits! what are the benefits of a...</td>\n",
              "    </tr>\n",
              "    <tr>\n",
              "      <th>16</th>\n",
              "      <td>https t.co ne1xv1tyqw #pia #canbe #airline ht...</td>\n",
              "    </tr>\n",
              "    <tr>\n",
              "      <th>17</th>\n",
              "      <td>best fear of flying app ever. like having a pi...</td>\n",
              "    </tr>\n",
              "    <tr>\n",
              "      <th>18</th>\n",
              "      <td>americanair data breach discovered in july, w...</td>\n",
              "    </tr>\n",
              "    <tr>\n",
              "      <th>19</th>\n",
              "      <td>the dutch people demand a free market and not ...</td>\n",
              "    </tr>\n",
              "  </tbody>\n",
              "</table>\n",
              "</div>\n",
              "      <button class=\"colab-df-convert\" onclick=\"convertToInteractive('df-fc293a17-4cae-4b36-b744-ca85b040cc31')\"\n",
              "              title=\"Convert this dataframe to an interactive table.\"\n",
              "              style=\"display:none;\">\n",
              "        \n",
              "  <svg xmlns=\"http://www.w3.org/2000/svg\" height=\"24px\"viewBox=\"0 0 24 24\"\n",
              "       width=\"24px\">\n",
              "    <path d=\"M0 0h24v24H0V0z\" fill=\"none\"/>\n",
              "    <path d=\"M18.56 5.44l.94 2.06.94-2.06 2.06-.94-2.06-.94-.94-2.06-.94 2.06-2.06.94zm-11 1L8.5 8.5l.94-2.06 2.06-.94-2.06-.94L8.5 2.5l-.94 2.06-2.06.94zm10 10l.94 2.06.94-2.06 2.06-.94-2.06-.94-.94-2.06-.94 2.06-2.06.94z\"/><path d=\"M17.41 7.96l-1.37-1.37c-.4-.4-.92-.59-1.43-.59-.52 0-1.04.2-1.43.59L10.3 9.45l-7.72 7.72c-.78.78-.78 2.05 0 2.83L4 21.41c.39.39.9.59 1.41.59.51 0 1.02-.2 1.41-.59l7.78-7.78 2.81-2.81c.8-.78.8-2.07 0-2.86zM5.41 20L4 18.59l7.72-7.72 1.47 1.35L5.41 20z\"/>\n",
              "  </svg>\n",
              "      </button>\n",
              "      \n",
              "  <style>\n",
              "    .colab-df-container {\n",
              "      display:flex;\n",
              "      flex-wrap:wrap;\n",
              "      gap: 12px;\n",
              "    }\n",
              "\n",
              "    .colab-df-convert {\n",
              "      background-color: #E8F0FE;\n",
              "      border: none;\n",
              "      border-radius: 50%;\n",
              "      cursor: pointer;\n",
              "      display: none;\n",
              "      fill: #1967D2;\n",
              "      height: 32px;\n",
              "      padding: 0 0 0 0;\n",
              "      width: 32px;\n",
              "    }\n",
              "\n",
              "    .colab-df-convert:hover {\n",
              "      background-color: #E2EBFA;\n",
              "      box-shadow: 0px 1px 2px rgba(60, 64, 67, 0.3), 0px 1px 3px 1px rgba(60, 64, 67, 0.15);\n",
              "      fill: #174EA6;\n",
              "    }\n",
              "\n",
              "    [theme=dark] .colab-df-convert {\n",
              "      background-color: #3B4455;\n",
              "      fill: #D2E3FC;\n",
              "    }\n",
              "\n",
              "    [theme=dark] .colab-df-convert:hover {\n",
              "      background-color: #434B5C;\n",
              "      box-shadow: 0px 1px 3px 1px rgba(0, 0, 0, 0.15);\n",
              "      filter: drop-shadow(0px 1px 2px rgba(0, 0, 0, 0.3));\n",
              "      fill: #FFFFFF;\n",
              "    }\n",
              "  </style>\n",
              "\n",
              "      <script>\n",
              "        const buttonEl =\n",
              "          document.querySelector('#df-fc293a17-4cae-4b36-b744-ca85b040cc31 button.colab-df-convert');\n",
              "        buttonEl.style.display =\n",
              "          google.colab.kernel.accessAllowed ? 'block' : 'none';\n",
              "\n",
              "        async function convertToInteractive(key) {\n",
              "          const element = document.querySelector('#df-fc293a17-4cae-4b36-b744-ca85b040cc31');\n",
              "          const dataTable =\n",
              "            await google.colab.kernel.invokeFunction('convertToInteractive',\n",
              "                                                     [key], {});\n",
              "          if (!dataTable) return;\n",
              "\n",
              "          const docLinkHtml = 'Like what you see? Visit the ' +\n",
              "            '<a target=\"_blank\" href=https://colab.research.google.com/notebooks/data_table.ipynb>data table notebook</a>'\n",
              "            + ' to learn more about interactive tables.';\n",
              "          element.innerHTML = '';\n",
              "          dataTable['output_type'] = 'display_data';\n",
              "          await google.colab.output.renderOutput(dataTable, element);\n",
              "          const docLink = document.createElement('div');\n",
              "          docLink.innerHTML = docLinkHtml;\n",
              "          element.appendChild(docLink);\n",
              "        }\n",
              "      </script>\n",
              "    </div>\n",
              "  </div>\n",
              "  "
            ]
          },
          "metadata": {},
          "execution_count": 8
        }
      ],
      "source": [
        "df[['Tweet']].head(20)"
      ]
    },
    {
      "cell_type": "code",
      "execution_count": 9,
      "metadata": {
        "id": "eRDm0LqoLiv-"
      },
      "outputs": [],
      "source": [
        "SIA = SentimentIntensityAnalyzer()\n",
        "df['Tweet']=df[\"Tweet\"].astype(str)\n",
        "\n",
        "df['Polarity']=df[\"Tweet\"].apply(lambda x: SIA.polarity_scores(x)['compound'])\n",
        "df['Neutral Score']=df[\"Tweet\"].apply(lambda x: SIA.polarity_scores(x)['neu'])\n",
        "df['Negative Score'] = df[\"Tweet\"].apply(lambda x: SIA.polarity_scores(x)['neg'])\n",
        "df['Positive Score'] = df[\"Tweet\"].apply(lambda x: SIA.polarity_scores(x)['pos'])\n",
        "\n",
        "df['Sentiment']= ''\n",
        "df.loc[df['Polarity'] > 0, 'Sentiment']=\"Positive\"\n",
        "df.loc[df['Polarity']== 0,'Sentiment']=\"Neutral\"\n",
        "df.loc[df['Polarity'] < 0 ,'Sentiment']=\"Negative\""
      ]
    },
    {
      "cell_type": "code",
      "execution_count": 10,
      "metadata": {
        "colab": {
          "base_uri": "https://localhost:8080/",
          "height": 1000
        },
        "id": "PaISXG8YLu7R",
        "outputId": "2ec7a174-6ffa-42e4-f0ce-e2e848a99908"
      },
      "outputs": [
        {
          "output_type": "execute_result",
          "data": {
            "text/plain": [
              "                        Date  \\\n",
              "0  2022-10-10 23:20:04+00:00   \n",
              "1  2022-10-10 23:12:19+00:00   \n",
              "2  2022-10-10 22:37:04+00:00   \n",
              "3  2022-10-10 22:18:58+00:00   \n",
              "4  2022-10-10 22:01:41+00:00   \n",
              "5  2022-10-10 21:05:10+00:00   \n",
              "6  2022-10-10 20:18:28+00:00   \n",
              "7  2022-10-10 19:58:00+00:00   \n",
              "8  2022-10-10 19:40:04+00:00   \n",
              "9  2022-10-10 19:19:16+00:00   \n",
              "10 2022-10-10 19:01:35+00:00   \n",
              "11 2022-10-10 18:57:50+00:00   \n",
              "12 2022-10-10 18:40:03+00:00   \n",
              "13 2022-10-10 18:30:00+00:00   \n",
              "14 2022-10-10 18:00:48+00:00   \n",
              "15 2022-10-10 18:00:35+00:00   \n",
              "16 2022-10-10 17:43:43+00:00   \n",
              "17 2022-10-10 17:30:07+00:00   \n",
              "18 2022-10-10 16:32:02+00:00   \n",
              "19 2022-10-10 16:28:07+00:00   \n",
              "\n",
              "                                             TweetURL  \\\n",
              "0   https://twitter.com/flightwit/status/157961276...   \n",
              "1   https://twitter.com/TildeCafe_/status/15796108...   \n",
              "2   https://twitter.com/AlexKrebsKatz/status/15796...   \n",
              "3   https://twitter.com/aoisoraakai/status/1579597...   \n",
              "4   https://twitter.com/CAO_JOBS/status/1579593033...   \n",
              "5   https://twitter.com/OnliTraveller/status/15795...   \n",
              "6   https://twitter.com/rai36de/status/15795670596...   \n",
              "7   https://twitter.com/ValuedHR/status/1579561908...   \n",
              "8   https://twitter.com/flightwit/status/157955739...   \n",
              "9   https://twitter.com/eriksownphoto/status/15795...   \n",
              "10  https://twitter.com/CAO_JOBS/status/1579547711...   \n",
              "11  https://twitter.com/VegasBiLL/status/157954676...   \n",
              "12  https://twitter.com/flightwit/status/157954229...   \n",
              "13  https://twitter.com/Newsbook_com_mt/status/157...   \n",
              "14  https://twitter.com/apexx_inc/status/157953241...   \n",
              "15  https://twitter.com/ezstorit/status/1579532359...   \n",
              "16  https://twitter.com/JasaratAlert/status/157952...   \n",
              "17  https://twitter.com/flightwit/status/157952469...   \n",
              "18  https://twitter.com/bjgreenberg/status/1579510...   \n",
              "19  https://twitter.com/TKTZio/status/157950909163...   \n",
              "\n",
              "                                                Tweet  Polarity  \\\n",
              "0   fear of flying? businestravellife says try thi...    0.0451   \n",
              "1   why don t #airlines have co2 monitors displayi...    0.8105   \n",
              "2   record breaker belfast welcomes one of the wor...    0.4019   \n",
              "3    aircraft airline airport travel trip ana jal ...    0.0000   \n",
              "4   visit our nj career center for an onsite presc...    0.1779   \n",
              "5   the three seats on an airplane to never select...    0.0000   \n",
              "6   #heimflug in der #nacht der urlaub war so schn...   -0.8316   \n",
              "7   american airlines cuts 31,000 flights from its...   -0.2960   \n",
              "8   why does turbulence on a flight feel worse tha...   -0.7430   \n",
              "9   f #vehicle #transportation #aircraft #airplane...    0.3182   \n",
              "10  this friday, cao will be hosting a logistics r...    0.0000   \n",
              "11  this airline is allowing passengers to disemba...    0.4404   \n",
              "12  how do we regulate our emotions? this psycholo...    0.0000   \n",
              "13  finance minister clydecaruana could not confir...    0.0000   \n",
              "14  air canada cargo expands us freighter network ...    0.1027   \n",
              "15  there are benefits! what are the benefits of a...    0.7249   \n",
              "16   https t.co ne1xv1tyqw #pia #canbe #airline ht...    0.0000   \n",
              "17  best fear of flying app ever. like having a pi...   -0.1027   \n",
              "18   americanair data breach discovered in july, w...    0.1531   \n",
              "19  the dutch people demand a free market and not ...    0.4215   \n",
              "\n",
              "    Neutral Score  Negative Score  Positive Score Sentiment  \n",
              "0           0.695           0.148           0.156  Positive  \n",
              "1           0.788           0.000           0.212  Positive  \n",
              "2           0.856           0.000           0.144  Positive  \n",
              "3           1.000           0.000           0.000   Neutral  \n",
              "4           0.956           0.000           0.044  Positive  \n",
              "5           1.000           0.000           0.000   Neutral  \n",
              "6           0.818           0.182           0.000  Negative  \n",
              "7           0.896           0.104           0.000  Negative  \n",
              "8           0.717           0.283           0.000  Negative  \n",
              "9           0.919           0.000           0.081  Positive  \n",
              "10          1.000           0.000           0.000   Neutral  \n",
              "11          0.868           0.000           0.132  Positive  \n",
              "12          1.000           0.000           0.000   Neutral  \n",
              "13          1.000           0.000           0.000   Neutral  \n",
              "14          0.909           0.000           0.091  Positive  \n",
              "15          0.859           0.000           0.141  Positive  \n",
              "16          1.000           0.000           0.000   Neutral  \n",
              "17          0.730           0.148           0.122  Negative  \n",
              "18          0.817           0.059           0.124  Positive  \n",
              "19          0.806           0.060           0.133  Positive  "
            ],
            "text/html": [
              "\n",
              "  <div id=\"df-f3b2e66a-d05c-480a-a387-f8134db57572\">\n",
              "    <div class=\"colab-df-container\">\n",
              "      <div>\n",
              "<style scoped>\n",
              "    .dataframe tbody tr th:only-of-type {\n",
              "        vertical-align: middle;\n",
              "    }\n",
              "\n",
              "    .dataframe tbody tr th {\n",
              "        vertical-align: top;\n",
              "    }\n",
              "\n",
              "    .dataframe thead th {\n",
              "        text-align: right;\n",
              "    }\n",
              "</style>\n",
              "<table border=\"1\" class=\"dataframe\">\n",
              "  <thead>\n",
              "    <tr style=\"text-align: right;\">\n",
              "      <th></th>\n",
              "      <th>Date</th>\n",
              "      <th>TweetURL</th>\n",
              "      <th>Tweet</th>\n",
              "      <th>Polarity</th>\n",
              "      <th>Neutral Score</th>\n",
              "      <th>Negative Score</th>\n",
              "      <th>Positive Score</th>\n",
              "      <th>Sentiment</th>\n",
              "    </tr>\n",
              "  </thead>\n",
              "  <tbody>\n",
              "    <tr>\n",
              "      <th>0</th>\n",
              "      <td>2022-10-10 23:20:04+00:00</td>\n",
              "      <td>https://twitter.com/flightwit/status/157961276...</td>\n",
              "      <td>fear of flying? businestravellife says try thi...</td>\n",
              "      <td>0.0451</td>\n",
              "      <td>0.695</td>\n",
              "      <td>0.148</td>\n",
              "      <td>0.156</td>\n",
              "      <td>Positive</td>\n",
              "    </tr>\n",
              "    <tr>\n",
              "      <th>1</th>\n",
              "      <td>2022-10-10 23:12:19+00:00</td>\n",
              "      <td>https://twitter.com/TildeCafe_/status/15796108...</td>\n",
              "      <td>why don t #airlines have co2 monitors displayi...</td>\n",
              "      <td>0.8105</td>\n",
              "      <td>0.788</td>\n",
              "      <td>0.000</td>\n",
              "      <td>0.212</td>\n",
              "      <td>Positive</td>\n",
              "    </tr>\n",
              "    <tr>\n",
              "      <th>2</th>\n",
              "      <td>2022-10-10 22:37:04+00:00</td>\n",
              "      <td>https://twitter.com/AlexKrebsKatz/status/15796...</td>\n",
              "      <td>record breaker belfast welcomes one of the wor...</td>\n",
              "      <td>0.4019</td>\n",
              "      <td>0.856</td>\n",
              "      <td>0.000</td>\n",
              "      <td>0.144</td>\n",
              "      <td>Positive</td>\n",
              "    </tr>\n",
              "    <tr>\n",
              "      <th>3</th>\n",
              "      <td>2022-10-10 22:18:58+00:00</td>\n",
              "      <td>https://twitter.com/aoisoraakai/status/1579597...</td>\n",
              "      <td>aircraft airline airport travel trip ana jal ...</td>\n",
              "      <td>0.0000</td>\n",
              "      <td>1.000</td>\n",
              "      <td>0.000</td>\n",
              "      <td>0.000</td>\n",
              "      <td>Neutral</td>\n",
              "    </tr>\n",
              "    <tr>\n",
              "      <th>4</th>\n",
              "      <td>2022-10-10 22:01:41+00:00</td>\n",
              "      <td>https://twitter.com/CAO_JOBS/status/1579593033...</td>\n",
              "      <td>visit our nj career center for an onsite presc...</td>\n",
              "      <td>0.1779</td>\n",
              "      <td>0.956</td>\n",
              "      <td>0.000</td>\n",
              "      <td>0.044</td>\n",
              "      <td>Positive</td>\n",
              "    </tr>\n",
              "    <tr>\n",
              "      <th>5</th>\n",
              "      <td>2022-10-10 21:05:10+00:00</td>\n",
              "      <td>https://twitter.com/OnliTraveller/status/15795...</td>\n",
              "      <td>the three seats on an airplane to never select...</td>\n",
              "      <td>0.0000</td>\n",
              "      <td>1.000</td>\n",
              "      <td>0.000</td>\n",
              "      <td>0.000</td>\n",
              "      <td>Neutral</td>\n",
              "    </tr>\n",
              "    <tr>\n",
              "      <th>6</th>\n",
              "      <td>2022-10-10 20:18:28+00:00</td>\n",
              "      <td>https://twitter.com/rai36de/status/15795670596...</td>\n",
              "      <td>#heimflug in der #nacht der urlaub war so schn...</td>\n",
              "      <td>-0.8316</td>\n",
              "      <td>0.818</td>\n",
              "      <td>0.182</td>\n",
              "      <td>0.000</td>\n",
              "      <td>Negative</td>\n",
              "    </tr>\n",
              "    <tr>\n",
              "      <th>7</th>\n",
              "      <td>2022-10-10 19:58:00+00:00</td>\n",
              "      <td>https://twitter.com/ValuedHR/status/1579561908...</td>\n",
              "      <td>american airlines cuts 31,000 flights from its...</td>\n",
              "      <td>-0.2960</td>\n",
              "      <td>0.896</td>\n",
              "      <td>0.104</td>\n",
              "      <td>0.000</td>\n",
              "      <td>Negative</td>\n",
              "    </tr>\n",
              "    <tr>\n",
              "      <th>8</th>\n",
              "      <td>2022-10-10 19:40:04+00:00</td>\n",
              "      <td>https://twitter.com/flightwit/status/157955739...</td>\n",
              "      <td>why does turbulence on a flight feel worse tha...</td>\n",
              "      <td>-0.7430</td>\n",
              "      <td>0.717</td>\n",
              "      <td>0.283</td>\n",
              "      <td>0.000</td>\n",
              "      <td>Negative</td>\n",
              "    </tr>\n",
              "    <tr>\n",
              "      <th>9</th>\n",
              "      <td>2022-10-10 19:19:16+00:00</td>\n",
              "      <td>https://twitter.com/eriksownphoto/status/15795...</td>\n",
              "      <td>f #vehicle #transportation #aircraft #airplane...</td>\n",
              "      <td>0.3182</td>\n",
              "      <td>0.919</td>\n",
              "      <td>0.000</td>\n",
              "      <td>0.081</td>\n",
              "      <td>Positive</td>\n",
              "    </tr>\n",
              "    <tr>\n",
              "      <th>10</th>\n",
              "      <td>2022-10-10 19:01:35+00:00</td>\n",
              "      <td>https://twitter.com/CAO_JOBS/status/1579547711...</td>\n",
              "      <td>this friday, cao will be hosting a logistics r...</td>\n",
              "      <td>0.0000</td>\n",
              "      <td>1.000</td>\n",
              "      <td>0.000</td>\n",
              "      <td>0.000</td>\n",
              "      <td>Neutral</td>\n",
              "    </tr>\n",
              "    <tr>\n",
              "      <th>11</th>\n",
              "      <td>2022-10-10 18:57:50+00:00</td>\n",
              "      <td>https://twitter.com/VegasBiLL/status/157954676...</td>\n",
              "      <td>this airline is allowing passengers to disemba...</td>\n",
              "      <td>0.4404</td>\n",
              "      <td>0.868</td>\n",
              "      <td>0.000</td>\n",
              "      <td>0.132</td>\n",
              "      <td>Positive</td>\n",
              "    </tr>\n",
              "    <tr>\n",
              "      <th>12</th>\n",
              "      <td>2022-10-10 18:40:03+00:00</td>\n",
              "      <td>https://twitter.com/flightwit/status/157954229...</td>\n",
              "      <td>how do we regulate our emotions? this psycholo...</td>\n",
              "      <td>0.0000</td>\n",
              "      <td>1.000</td>\n",
              "      <td>0.000</td>\n",
              "      <td>0.000</td>\n",
              "      <td>Neutral</td>\n",
              "    </tr>\n",
              "    <tr>\n",
              "      <th>13</th>\n",
              "      <td>2022-10-10 18:30:00+00:00</td>\n",
              "      <td>https://twitter.com/Newsbook_com_mt/status/157...</td>\n",
              "      <td>finance minister clydecaruana could not confir...</td>\n",
              "      <td>0.0000</td>\n",
              "      <td>1.000</td>\n",
              "      <td>0.000</td>\n",
              "      <td>0.000</td>\n",
              "      <td>Neutral</td>\n",
              "    </tr>\n",
              "    <tr>\n",
              "      <th>14</th>\n",
              "      <td>2022-10-10 18:00:48+00:00</td>\n",
              "      <td>https://twitter.com/apexx_inc/status/157953241...</td>\n",
              "      <td>air canada cargo expands us freighter network ...</td>\n",
              "      <td>0.1027</td>\n",
              "      <td>0.909</td>\n",
              "      <td>0.000</td>\n",
              "      <td>0.091</td>\n",
              "      <td>Positive</td>\n",
              "    </tr>\n",
              "    <tr>\n",
              "      <th>15</th>\n",
              "      <td>2022-10-10 18:00:35+00:00</td>\n",
              "      <td>https://twitter.com/ezstorit/status/1579532359...</td>\n",
              "      <td>there are benefits! what are the benefits of a...</td>\n",
              "      <td>0.7249</td>\n",
              "      <td>0.859</td>\n",
              "      <td>0.000</td>\n",
              "      <td>0.141</td>\n",
              "      <td>Positive</td>\n",
              "    </tr>\n",
              "    <tr>\n",
              "      <th>16</th>\n",
              "      <td>2022-10-10 17:43:43+00:00</td>\n",
              "      <td>https://twitter.com/JasaratAlert/status/157952...</td>\n",
              "      <td>https t.co ne1xv1tyqw #pia #canbe #airline ht...</td>\n",
              "      <td>0.0000</td>\n",
              "      <td>1.000</td>\n",
              "      <td>0.000</td>\n",
              "      <td>0.000</td>\n",
              "      <td>Neutral</td>\n",
              "    </tr>\n",
              "    <tr>\n",
              "      <th>17</th>\n",
              "      <td>2022-10-10 17:30:07+00:00</td>\n",
              "      <td>https://twitter.com/flightwit/status/157952469...</td>\n",
              "      <td>best fear of flying app ever. like having a pi...</td>\n",
              "      <td>-0.1027</td>\n",
              "      <td>0.730</td>\n",
              "      <td>0.148</td>\n",
              "      <td>0.122</td>\n",
              "      <td>Negative</td>\n",
              "    </tr>\n",
              "    <tr>\n",
              "      <th>18</th>\n",
              "      <td>2022-10-10 16:32:02+00:00</td>\n",
              "      <td>https://twitter.com/bjgreenberg/status/1579510...</td>\n",
              "      <td>americanair data breach discovered in july, w...</td>\n",
              "      <td>0.1531</td>\n",
              "      <td>0.817</td>\n",
              "      <td>0.059</td>\n",
              "      <td>0.124</td>\n",
              "      <td>Positive</td>\n",
              "    </tr>\n",
              "    <tr>\n",
              "      <th>19</th>\n",
              "      <td>2022-10-10 16:28:07+00:00</td>\n",
              "      <td>https://twitter.com/TKTZio/status/157950909163...</td>\n",
              "      <td>the dutch people demand a free market and not ...</td>\n",
              "      <td>0.4215</td>\n",
              "      <td>0.806</td>\n",
              "      <td>0.060</td>\n",
              "      <td>0.133</td>\n",
              "      <td>Positive</td>\n",
              "    </tr>\n",
              "  </tbody>\n",
              "</table>\n",
              "</div>\n",
              "      <button class=\"colab-df-convert\" onclick=\"convertToInteractive('df-f3b2e66a-d05c-480a-a387-f8134db57572')\"\n",
              "              title=\"Convert this dataframe to an interactive table.\"\n",
              "              style=\"display:none;\">\n",
              "        \n",
              "  <svg xmlns=\"http://www.w3.org/2000/svg\" height=\"24px\"viewBox=\"0 0 24 24\"\n",
              "       width=\"24px\">\n",
              "    <path d=\"M0 0h24v24H0V0z\" fill=\"none\"/>\n",
              "    <path d=\"M18.56 5.44l.94 2.06.94-2.06 2.06-.94-2.06-.94-.94-2.06-.94 2.06-2.06.94zm-11 1L8.5 8.5l.94-2.06 2.06-.94-2.06-.94L8.5 2.5l-.94 2.06-2.06.94zm10 10l.94 2.06.94-2.06 2.06-.94-2.06-.94-.94-2.06-.94 2.06-2.06.94z\"/><path d=\"M17.41 7.96l-1.37-1.37c-.4-.4-.92-.59-1.43-.59-.52 0-1.04.2-1.43.59L10.3 9.45l-7.72 7.72c-.78.78-.78 2.05 0 2.83L4 21.41c.39.39.9.59 1.41.59.51 0 1.02-.2 1.41-.59l7.78-7.78 2.81-2.81c.8-.78.8-2.07 0-2.86zM5.41 20L4 18.59l7.72-7.72 1.47 1.35L5.41 20z\"/>\n",
              "  </svg>\n",
              "      </button>\n",
              "      \n",
              "  <style>\n",
              "    .colab-df-container {\n",
              "      display:flex;\n",
              "      flex-wrap:wrap;\n",
              "      gap: 12px;\n",
              "    }\n",
              "\n",
              "    .colab-df-convert {\n",
              "      background-color: #E8F0FE;\n",
              "      border: none;\n",
              "      border-radius: 50%;\n",
              "      cursor: pointer;\n",
              "      display: none;\n",
              "      fill: #1967D2;\n",
              "      height: 32px;\n",
              "      padding: 0 0 0 0;\n",
              "      width: 32px;\n",
              "    }\n",
              "\n",
              "    .colab-df-convert:hover {\n",
              "      background-color: #E2EBFA;\n",
              "      box-shadow: 0px 1px 2px rgba(60, 64, 67, 0.3), 0px 1px 3px 1px rgba(60, 64, 67, 0.15);\n",
              "      fill: #174EA6;\n",
              "    }\n",
              "\n",
              "    [theme=dark] .colab-df-convert {\n",
              "      background-color: #3B4455;\n",
              "      fill: #D2E3FC;\n",
              "    }\n",
              "\n",
              "    [theme=dark] .colab-df-convert:hover {\n",
              "      background-color: #434B5C;\n",
              "      box-shadow: 0px 1px 3px 1px rgba(0, 0, 0, 0.15);\n",
              "      filter: drop-shadow(0px 1px 2px rgba(0, 0, 0, 0.3));\n",
              "      fill: #FFFFFF;\n",
              "    }\n",
              "  </style>\n",
              "\n",
              "      <script>\n",
              "        const buttonEl =\n",
              "          document.querySelector('#df-f3b2e66a-d05c-480a-a387-f8134db57572 button.colab-df-convert');\n",
              "        buttonEl.style.display =\n",
              "          google.colab.kernel.accessAllowed ? 'block' : 'none';\n",
              "\n",
              "        async function convertToInteractive(key) {\n",
              "          const element = document.querySelector('#df-f3b2e66a-d05c-480a-a387-f8134db57572');\n",
              "          const dataTable =\n",
              "            await google.colab.kernel.invokeFunction('convertToInteractive',\n",
              "                                                     [key], {});\n",
              "          if (!dataTable) return;\n",
              "\n",
              "          const docLinkHtml = 'Like what you see? Visit the ' +\n",
              "            '<a target=\"_blank\" href=https://colab.research.google.com/notebooks/data_table.ipynb>data table notebook</a>'\n",
              "            + ' to learn more about interactive tables.';\n",
              "          element.innerHTML = '';\n",
              "          dataTable['output_type'] = 'display_data';\n",
              "          await google.colab.output.renderOutput(dataTable, element);\n",
              "          const docLink = document.createElement('div');\n",
              "          docLink.innerHTML = docLinkHtml;\n",
              "          element.appendChild(docLink);\n",
              "        }\n",
              "      </script>\n",
              "    </div>\n",
              "  </div>\n",
              "  "
            ]
          },
          "metadata": {},
          "execution_count": 10
        }
      ],
      "source": [
        "df.head(20)"
      ]
    },
    {
      "cell_type": "code",
      "source": [
        "df.to_csv('extractedS.csv')"
      ],
      "metadata": {
        "id": "guDA441PhbwY"
      },
      "execution_count": 11,
      "outputs": []
    },
    {
      "cell_type": "code",
      "execution_count": 12,
      "metadata": {
        "id": "E6LI5HUjrJE-"
      },
      "outputs": [],
      "source": [
        "df_ = df[['Sentiment','Tweet']].copy()"
      ]
    },
    {
      "cell_type": "code",
      "execution_count": 13,
      "metadata": {
        "colab": {
          "base_uri": "https://localhost:8080/",
          "height": 283
        },
        "id": "fBLURRmprYij",
        "outputId": "38048ba4-c248-4652-aa3f-8ad4dc4e8c56"
      },
      "outputs": [
        {
          "output_type": "execute_result",
          "data": {
            "text/plain": [
              "<matplotlib.axes._subplots.AxesSubplot at 0x7f757fde57f0>"
            ]
          },
          "metadata": {},
          "execution_count": 13
        },
        {
          "output_type": "display_data",
          "data": {
            "text/plain": [
              "<Figure size 432x288 with 1 Axes>"
            ],
            "image/png": "[encoded data removed]"
          },
          "metadata": {
            "needs_background": "light"
          }
        }
      ],
      "source": [
        "df_['Sentiment'].hist()"
      ]
    },
    {
      "cell_type": "code",
      "execution_count": 14,
      "metadata": {
        "id": "aAhSg8Cnrh1_"
      },
      "outputs": [],
      "source": [
        "target_map = {'Positive':1,'Negative':0, 'Neutral':2}\n",
        "df_['target'] = df_['Sentiment'].map(target_map)"
      ]
    },
    {
      "cell_type": "code",
      "execution_count": null,
      "metadata": {
        "id": "eYZWNKixrrDb"
      },
      "outputs": [],
      "source": [
        "df_.head(25)"
      ]
    },
    {
      "cell_type": "markdown",
      "metadata": {
        "id": "4KPynr3kBcwM"
      },
      "source": []
    },
    {
      "cell_type": "code",
      "execution_count": 16,
      "metadata": {
        "id": "SulByrj8Bgml"
      },
      "outputs": [],
      "source": [
        "dftrain, dftest = train_test_split(df_)"
      ]
    },
    {
      "cell_type": "code",
      "execution_count": 17,
      "metadata": {
        "colab": {
          "base_uri": "https://localhost:8080/",
          "height": 206
        },
        "id": "y9BULOcCBnfc",
        "outputId": "f40f9f93-9c42-4989-abd4-636e3177a400"
      },
      "outputs": [
        {
          "output_type": "execute_result",
          "data": {
            "text/plain": [
              "   Sentiment                                              Tweet  target\n",
              "36  Positive  gujarat pm modi lays foundation stone of airpo...       1\n",
              "19  Positive  the dutch people demand a free market and not ...       1\n",
              "42   Neutral  spicejet deposits tds of employees for 2021 22...       2\n",
              "49  Positive  download the best #app to share your #best #ai...       1\n",
              "26  Positive  share the #best #air content download the best...       1"
            ],
            "text/html": [
              "\n",
              "  <div id=\"df-6d7ca573-51fc-42ab-b733-e05bdd8605cb\">\n",
              "    <div class=\"colab-df-container\">\n",
              "      <div>\n",
              "<style scoped>\n",
              "    .dataframe tbody tr th:only-of-type {\n",
              "        vertical-align: middle;\n",
              "    }\n",
              "\n",
              "    .dataframe tbody tr th {\n",
              "        vertical-align: top;\n",
              "    }\n",
              "\n",
              "    .dataframe thead th {\n",
              "        text-align: right;\n",
              "    }\n",
              "</style>\n",
              "<table border=\"1\" class=\"dataframe\">\n",
              "  <thead>\n",
              "    <tr style=\"text-align: right;\">\n",
              "      <th></th>\n",
              "      <th>Sentiment</th>\n",
              "      <th>Tweet</th>\n",
              "      <th>target</th>\n",
              "    </tr>\n",
              "  </thead>\n",
              "  <tbody>\n",
              "    <tr>\n",
              "      <th>36</th>\n",
              "      <td>Positive</td>\n",
              "      <td>gujarat pm modi lays foundation stone of airpo...</td>\n",
              "      <td>1</td>\n",
              "    </tr>\n",
              "    <tr>\n",
              "      <th>19</th>\n",
              "      <td>Positive</td>\n",
              "      <td>the dutch people demand a free market and not ...</td>\n",
              "      <td>1</td>\n",
              "    </tr>\n",
              "    <tr>\n",
              "      <th>42</th>\n",
              "      <td>Neutral</td>\n",
              "      <td>spicejet deposits tds of employees for 2021 22...</td>\n",
              "      <td>2</td>\n",
              "    </tr>\n",
              "    <tr>\n",
              "      <th>49</th>\n",
              "      <td>Positive</td>\n",
              "      <td>download the best #app to share your #best #ai...</td>\n",
              "      <td>1</td>\n",
              "    </tr>\n",
              "    <tr>\n",
              "      <th>26</th>\n",
              "      <td>Positive</td>\n",
              "      <td>share the #best #air content download the best...</td>\n",
              "      <td>1</td>\n",
              "    </tr>\n",
              "  </tbody>\n",
              "</table>\n",
              "</div>\n",
              "      <button class=\"colab-df-convert\" onclick=\"convertToInteractive('df-6d7ca573-51fc-42ab-b733-e05bdd8605cb')\"\n",
              "              title=\"Convert this dataframe to an interactive table.\"\n",
              "              style=\"display:none;\">\n",
              "        \n",
              "  <svg xmlns=\"http://www.w3.org/2000/svg\" height=\"24px\"viewBox=\"0 0 24 24\"\n",
              "       width=\"24px\">\n",
              "    <path d=\"M0 0h24v24H0V0z\" fill=\"none\"/>\n",
              "    <path d=\"M18.56 5.44l.94 2.06.94-2.06 2.06-.94-2.06-.94-.94-2.06-.94 2.06-2.06.94zm-11 1L8.5 8.5l.94-2.06 2.06-.94-2.06-.94L8.5 2.5l-.94 2.06-2.06.94zm10 10l.94 2.06.94-2.06 2.06-.94-2.06-.94-.94-2.06-.94 2.06-2.06.94z\"/><path d=\"M17.41 7.96l-1.37-1.37c-.4-.4-.92-.59-1.43-.59-.52 0-1.04.2-1.43.59L10.3 9.45l-7.72 7.72c-.78.78-.78 2.05 0 2.83L4 21.41c.39.39.9.59 1.41.59.51 0 1.02-.2 1.41-.59l7.78-7.78 2.81-2.81c.8-.78.8-2.07 0-2.86zM5.41 20L4 18.59l7.72-7.72 1.47 1.35L5.41 20z\"/>\n",
              "  </svg>\n",
              "      </button>\n",
              "      \n",
              "  <style>\n",
              "    .colab-df-container {\n",
              "      display:flex;\n",
              "      flex-wrap:wrap;\n",
              "      gap: 12px;\n",
              "    }\n",
              "\n",
              "    .colab-df-convert {\n",
              "      background-color: #E8F0FE;\n",
              "      border: none;\n",
              "      border-radius: 50%;\n",
              "      cursor: pointer;\n",
              "      display: none;\n",
              "      fill: #1967D2;\n",
              "      height: 32px;\n",
              "      padding: 0 0 0 0;\n",
              "      width: 32px;\n",
              "    }\n",
              "\n",
              "    .colab-df-convert:hover {\n",
              "      background-color: #E2EBFA;\n",
              "      box-shadow: 0px 1px 2px rgba(60, 64, 67, 0.3), 0px 1px 3px 1px rgba(60, 64, 67, 0.15);\n",
              "      fill: #174EA6;\n",
              "    }\n",
              "\n",
              "    [theme=dark] .colab-df-convert {\n",
              "      background-color: #3B4455;\n",
              "      fill: #D2E3FC;\n",
              "    }\n",
              "\n",
              "    [theme=dark] .colab-df-convert:hover {\n",
              "      background-color: #434B5C;\n",
              "      box-shadow: 0px 1px 3px 1px rgba(0, 0, 0, 0.15);\n",
              "      filter: drop-shadow(0px 1px 2px rgba(0, 0, 0, 0.3));\n",
              "      fill: #FFFFFF;\n",
              "    }\n",
              "  </style>\n",
              "\n",
              "      <script>\n",
              "        const buttonEl =\n",
              "          document.querySelector('#df-6d7ca573-51fc-42ab-b733-e05bdd8605cb button.colab-df-convert');\n",
              "        buttonEl.style.display =\n",
              "          google.colab.kernel.accessAllowed ? 'block' : 'none';\n",
              "\n",
              "        async function convertToInteractive(key) {\n",
              "          const element = document.querySelector('#df-6d7ca573-51fc-42ab-b733-e05bdd8605cb');\n",
              "          const dataTable =\n",
              "            await google.colab.kernel.invokeFunction('convertToInteractive',\n",
              "                                                     [key], {});\n",
              "          if (!dataTable) return;\n",
              "\n",
              "          const docLinkHtml = 'Like what you see? Visit the ' +\n",
              "            '<a target=\"_blank\" href=https://colab.research.google.com/notebooks/data_table.ipynb>data table notebook</a>'\n",
              "            + ' to learn more about interactive tables.';\n",
              "          element.innerHTML = '';\n",
              "          dataTable['output_type'] = 'display_data';\n",
              "          await google.colab.output.renderOutput(dataTable, element);\n",
              "          const docLink = document.createElement('div');\n",
              "          docLink.innerHTML = docLinkHtml;\n",
              "          element.appendChild(docLink);\n",
              "        }\n",
              "      </script>\n",
              "    </div>\n",
              "  </div>\n",
              "  "
            ]
          },
          "metadata": {},
          "execution_count": 17
        }
      ],
      "source": [
        "dftrain.head()"
      ]
    },
    {
      "cell_type": "code",
      "execution_count": 18,
      "metadata": {
        "id": "xhXAET4jBs7J"
      },
      "outputs": [],
      "source": [
        "vectorizer = TfidfVectorizer(max_features=2000)"
      ]
    },
    {
      "cell_type": "code",
      "execution_count": 19,
      "metadata": {
        "id": "SUhg6eisBwP2"
      },
      "outputs": [],
      "source": [
        "X_train = vectorizer.fit_transform(dftrain['Tweet'])"
      ]
    },
    {
      "cell_type": "code",
      "execution_count": 20,
      "metadata": {
        "colab": {
          "base_uri": "https://localhost:8080/"
        },
        "id": "fLmlc_zmmk9j",
        "outputId": "17e8971a-815b-432c-aca8-d9c687a58263"
      },
      "outputs": [
        {
          "output_type": "execute_result",
          "data": {
            "text/plain": [
              "<37x485 sparse matrix of type '<class 'numpy.float64'>'\n",
              "\twith 815 stored elements in Compressed Sparse Row format>"
            ]
          },
          "metadata": {},
          "execution_count": 20
        }
      ],
      "source": [
        "X_train"
      ]
    },
    {
      "cell_type": "code",
      "execution_count": 21,
      "metadata": {
        "id": "9BKKoPmsmwJG"
      },
      "outputs": [],
      "source": [
        "X_test = vectorizer.transform(dftest['Tweet'])"
      ]
    },
    {
      "cell_type": "code",
      "execution_count": 22,
      "metadata": {
        "id": "QNkvPd5wBz7l"
      },
      "outputs": [],
      "source": [
        "Y_train = dftrain['target']\n",
        "Y_test = dftest['target']"
      ]
    },
    {
      "cell_type": "code",
      "execution_count": 23,
      "metadata": {
        "colab": {
          "base_uri": "https://localhost:8080/"
        },
        "id": "jACiV6QgoxBM",
        "outputId": "e778e0a2-4735-4ef2-bde4-f8b52725c5cd"
      },
      "outputs": [
        {
          "output_type": "execute_result",
          "data": {
            "text/plain": [
              "Positive    29\n",
              "Neutral     13\n",
              "Negative     8\n",
              "Name: Sentiment, dtype: int64"
            ]
          },
          "metadata": {},
          "execution_count": 23
        }
      ],
      "source": [
        "df['Sentiment'].value_counts()"
      ]
    },
    {
      "cell_type": "code",
      "execution_count": 24,
      "metadata": {
        "colab": {
          "base_uri": "https://localhost:8080/"
        },
        "id": "sr_VrhbTB2dI",
        "outputId": "0cf50dc4-99df-4246-efab-39dd4b60222a"
      },
      "outputs": [
        {
          "output_type": "stream",
          "name": "stdout",
          "text": [
            "Train acc: 0.8648648648648649\n",
            "Test acc: 0.6923076923076923\n"
          ]
        }
      ],
      "source": [
        "model = LogisticRegression(max_iter =500)\n",
        "model.fit(X_train,Y_train)\n",
        "print(\"Train acc:\",model.score(X_train,Y_train))\n",
        "print(\"Test acc:\",model.score(X_test,Y_test))"
      ]
    },
    {
      "cell_type": "code",
      "execution_count": 25,
      "metadata": {
        "colab": {
          "base_uri": "https://localhost:8080/"
        },
        "id": "YL7yznHDB55W",
        "outputId": "ea2bf454-1455-4755-9433-f66ca902bf3d"
      },
      "outputs": [
        {
          "output_type": "stream",
          "name": "stdout",
          "text": [
            "Train AUC 1.0\n",
            "Test AUC 0.8209876543209876\n"
          ]
        }
      ],
      "source": [
        "Pr_train = model.predict_proba(X_train)#[:, 1]\n",
        "Pr_test = model.predict_proba(X_test)#[:, 1]\n",
        "print(\"Train AUC\", roc_auc_score(Y_train,Pr_train,multi_class ='ovo'))\n",
        "print(\"Test AUC\", roc_auc_score(Y_test,Pr_test,multi_class ='ovo'))"
      ]
    },
    {
      "cell_type": "code",
      "execution_count": 26,
      "metadata": {
        "id": "6Kz5A_y0B88D"
      },
      "outputs": [],
      "source": [
        "P_train = model.predict(X_train)\n",
        "P_test = model.predict(X_test)"
      ]
    },
    {
      "cell_type": "code",
      "execution_count": 27,
      "metadata": {
        "colab": {
          "base_uri": "https://localhost:8080/"
        },
        "id": "1-zCJ57CCCd6",
        "outputId": "1134d500-e5d1-4494-d6ed-e28fcbf6a5c5"
      },
      "outputs": [
        {
          "output_type": "execute_result",
          "data": {
            "text/plain": [
              "array([[0.28571429, 0.71428571, 0.        ],\n",
              "       [0.        , 1.        , 0.        ],\n",
              "       [0.        , 0.        , 1.        ]])"
            ]
          },
          "metadata": {},
          "execution_count": 27
        }
      ],
      "source": [
        "cm = confusion_matrix(Y_train,P_train, normalize = \"true\")\n",
        "cm"
      ]
    },
    {
      "cell_type": "code",
      "execution_count": 28,
      "metadata": {
        "colab": {
          "base_uri": "https://localhost:8080/",
          "height": 283
        },
        "id": "t1IJ0qWCCHDT",
        "outputId": "ac9110e6-d8f2-4f21-a41e-ba2a24ce8f4d"
      },
      "outputs": [
        {
          "output_type": "display_data",
          "data": {
            "text/plain": [
              "<Figure size 432x288 with 2 Axes>"
            ],
            "image/png": "[encoded data removed]"
          },
          "metadata": {
            "needs_background": "light"
          }
        }
      ],
      "source": [
        "import pandas as pd\n",
        "\n",
        "def plot_cm(cm):\n",
        "  classes = ['Negative','Positive','Neutral']\n",
        "  df_cm =pd.DataFrame(cm, index=classes, columns=classes)\n",
        "  ax =sn.heatmap(df_cm,annot=True, fmt ='g')\n",
        "  ax.set_xlabel(\"Predicted\")\n",
        "  ax.set_ylabel(\"Target\")\n",
        "\n",
        "plot_cm(cm)\n"
      ]
    },
    {
      "cell_type": "code",
      "execution_count": 29,
      "metadata": {
        "colab": {
          "base_uri": "https://localhost:8080/",
          "height": 283
        },
        "id": "yWHeyTEtyIU6",
        "outputId": "a4165291-2351-4906-ea43-bb0d50aee8c8"
      },
      "outputs": [
        {
          "output_type": "display_data",
          "data": {
            "text/plain": [
              "<Figure size 432x288 with 2 Axes>"
            ],
            "image/png": "[encoded data removed]"
          },
          "metadata": {
            "needs_background": "light"
          }
        }
      ],
      "source": [
        "cm_test =confusion_matrix(Y_test,P_test, normalize='true')\n",
        "plot_cm(cm_test)"
      ]
    },
    {
      "cell_type": "code",
      "execution_count": 30,
      "metadata": {
        "colab": {
          "base_uri": "https://localhost:8080/"
        },
        "id": "84KP1CFk1YBN",
        "outputId": "8ff8ddb8-c1e7-454f-839e-695988cc54e2"
      },
      "outputs": [
        {
          "output_type": "execute_result",
          "data": {
            "text/plain": [
              "Positive    29\n",
              "Neutral     13\n",
              "Negative     8\n",
              "Name: Sentiment, dtype: int64"
            ]
          },
          "metadata": {},
          "execution_count": 30
        }
      ],
      "source": [
        "df['Sentiment'].value_counts()"
      ]
    },
    {
      "cell_type": "code",
      "execution_count": 31,
      "metadata": {
        "colab": {
          "base_uri": "https://localhost:8080/",
          "height": 143
        },
        "id": "NJse7R6B1Yy0",
        "outputId": "286c117b-d1f0-4840-9664-bb96d257d39e"
      },
      "outputs": [
        {
          "output_type": "execute_result",
          "data": {
            "text/plain": [
              "  Sentiment  Counts\n",
              "0  Negative       8\n",
              "1   Neutral      13\n",
              "2  Positive      29"
            ],
            "text/html": [
              "\n",
              "  <div id=\"df-1f494752-e259-4dae-8a4e-a9dfc588e8a7\">\n",
              "    <div class=\"colab-df-container\">\n",
              "      <div>\n",
              "<style scoped>\n",
              "    .dataframe tbody tr th:only-of-type {\n",
              "        vertical-align: middle;\n",
              "    }\n",
              "\n",
              "    .dataframe tbody tr th {\n",
              "        vertical-align: top;\n",
              "    }\n",
              "\n",
              "    .dataframe thead th {\n",
              "        text-align: right;\n",
              "    }\n",
              "</style>\n",
              "<table border=\"1\" class=\"dataframe\">\n",
              "  <thead>\n",
              "    <tr style=\"text-align: right;\">\n",
              "      <th></th>\n",
              "      <th>Sentiment</th>\n",
              "      <th>Counts</th>\n",
              "    </tr>\n",
              "  </thead>\n",
              "  <tbody>\n",
              "    <tr>\n",
              "      <th>0</th>\n",
              "      <td>Negative</td>\n",
              "      <td>8</td>\n",
              "    </tr>\n",
              "    <tr>\n",
              "      <th>1</th>\n",
              "      <td>Neutral</td>\n",
              "      <td>13</td>\n",
              "    </tr>\n",
              "    <tr>\n",
              "      <th>2</th>\n",
              "      <td>Positive</td>\n",
              "      <td>29</td>\n",
              "    </tr>\n",
              "  </tbody>\n",
              "</table>\n",
              "</div>\n",
              "      <button class=\"colab-df-convert\" onclick=\"convertToInteractive('df-1f494752-e259-4dae-8a4e-a9dfc588e8a7')\"\n",
              "              title=\"Convert this dataframe to an interactive table.\"\n",
              "              style=\"display:none;\">\n",
              "        \n",
              "  <svg xmlns=\"http://www.w3.org/2000/svg\" height=\"24px\"viewBox=\"0 0 24 24\"\n",
              "       width=\"24px\">\n",
              "    <path d=\"M0 0h24v24H0V0z\" fill=\"none\"/>\n",
              "    <path d=\"M18.56 5.44l.94 2.06.94-2.06 2.06-.94-2.06-.94-.94-2.06-.94 2.06-2.06.94zm-11 1L8.5 8.5l.94-2.06 2.06-.94-2.06-.94L8.5 2.5l-.94 2.06-2.06.94zm10 10l.94 2.06.94-2.06 2.06-.94-2.06-.94-.94-2.06-.94 2.06-2.06.94z\"/><path d=\"M17.41 7.96l-1.37-1.37c-.4-.4-.92-.59-1.43-.59-.52 0-1.04.2-1.43.59L10.3 9.45l-7.72 7.72c-.78.78-.78 2.05 0 2.83L4 21.41c.39.39.9.59 1.41.59.51 0 1.02-.2 1.41-.59l7.78-7.78 2.81-2.81c.8-.78.8-2.07 0-2.86zM5.41 20L4 18.59l7.72-7.72 1.47 1.35L5.41 20z\"/>\n",
              "  </svg>\n",
              "      </button>\n",
              "      \n",
              "  <style>\n",
              "    .colab-df-container {\n",
              "      display:flex;\n",
              "      flex-wrap:wrap;\n",
              "      gap: 12px;\n",
              "    }\n",
              "\n",
              "    .colab-df-convert {\n",
              "      background-color: #E8F0FE;\n",
              "      border: none;\n",
              "      border-radius: 50%;\n",
              "      cursor: pointer;\n",
              "      display: none;\n",
              "      fill: #1967D2;\n",
              "      height: 32px;\n",
              "      padding: 0 0 0 0;\n",
              "      width: 32px;\n",
              "    }\n",
              "\n",
              "    .colab-df-convert:hover {\n",
              "      background-color: #E2EBFA;\n",
              "      box-shadow: 0px 1px 2px rgba(60, 64, 67, 0.3), 0px 1px 3px 1px rgba(60, 64, 67, 0.15);\n",
              "      fill: #174EA6;\n",
              "    }\n",
              "\n",
              "    [theme=dark] .colab-df-convert {\n",
              "      background-color: #3B4455;\n",
              "      fill: #D2E3FC;\n",
              "    }\n",
              "\n",
              "    [theme=dark] .colab-df-convert:hover {\n",
              "      background-color: #434B5C;\n",
              "      box-shadow: 0px 1px 3px 1px rgba(0, 0, 0, 0.15);\n",
              "      filter: drop-shadow(0px 1px 2px rgba(0, 0, 0, 0.3));\n",
              "      fill: #FFFFFF;\n",
              "    }\n",
              "  </style>\n",
              "\n",
              "      <script>\n",
              "        const buttonEl =\n",
              "          document.querySelector('#df-1f494752-e259-4dae-8a4e-a9dfc588e8a7 button.colab-df-convert');\n",
              "        buttonEl.style.display =\n",
              "          google.colab.kernel.accessAllowed ? 'block' : 'none';\n",
              "\n",
              "        async function convertToInteractive(key) {\n",
              "          const element = document.querySelector('#df-1f494752-e259-4dae-8a4e-a9dfc588e8a7');\n",
              "          const dataTable =\n",
              "            await google.colab.kernel.invokeFunction('convertToInteractive',\n",
              "                                                     [key], {});\n",
              "          if (!dataTable) return;\n",
              "\n",
              "          const docLinkHtml = 'Like what you see? Visit the ' +\n",
              "            '<a target=\"_blank\" href=https://colab.research.google.com/notebooks/data_table.ipynb>data table notebook</a>'\n",
              "            + ' to learn more about interactive tables.';\n",
              "          element.innerHTML = '';\n",
              "          dataTable['output_type'] = 'display_data';\n",
              "          await google.colab.output.renderOutput(dataTable, element);\n",
              "          const docLink = document.createElement('div');\n",
              "          docLink.innerHTML = docLinkHtml;\n",
              "          element.appendChild(docLink);\n",
              "        }\n",
              "      </script>\n",
              "    </div>\n",
              "  </div>\n",
              "  "
            ]
          },
          "metadata": {},
          "execution_count": 31
        }
      ],
      "source": [
        "Tweets = df.groupby(['Sentiment']).size().reset_index(name='Counts')\n",
        "Tweets"
      ]
    },
    {
      "cell_type": "code",
      "execution_count": 32,
      "metadata": {
        "id": "M30sSajF6yT-"
      },
      "outputs": [],
      "source": [
        "binary_target_list = [target_map['Positive'],target_map['Negative']]\n",
        "dfb_train= dftrain[dftrain['target'].isin(binary_target_list)]\n",
        "dfb_test= dftest[dftest['target'].isin(binary_target_list)]"
      ]
    },
    {
      "cell_type": "code",
      "execution_count": 33,
      "metadata": {
        "colab": {
          "base_uri": "https://localhost:8080/",
          "height": 206
        },
        "id": "yGrtTIbQ-Stn",
        "outputId": "57bb0633-6b9b-4bc4-8d5c-000b39aae88b"
      },
      "outputs": [
        {
          "output_type": "execute_result",
          "data": {
            "text/plain": [
              "   Sentiment                                              Tweet  target\n",
              "36  Positive  gujarat pm modi lays foundation stone of airpo...       1\n",
              "19  Positive  the dutch people demand a free market and not ...       1\n",
              "49  Positive  download the best #app to share your #best #ai...       1\n",
              "26  Positive  share the #best #air content download the best...       1\n",
              "22  Negative  how likely is your airliner's engine to fail? ...       0"
            ],
            "text/html": [
              "\n",
              "  <div id=\"df-99c5a369-afc1-4610-af2e-db8ed101bbcf\">\n",
              "    <div class=\"colab-df-container\">\n",
              "      <div>\n",
              "<style scoped>\n",
              "    .dataframe tbody tr th:only-of-type {\n",
              "        vertical-align: middle;\n",
              "    }\n",
              "\n",
              "    .dataframe tbody tr th {\n",
              "        vertical-align: top;\n",
              "    }\n",
              "\n",
              "    .dataframe thead th {\n",
              "        text-align: right;\n",
              "    }\n",
              "</style>\n",
              "<table border=\"1\" class=\"dataframe\">\n",
              "  <thead>\n",
              "    <tr style=\"text-align: right;\">\n",
              "      <th></th>\n",
              "      <th>Sentiment</th>\n",
              "      <th>Tweet</th>\n",
              "      <th>target</th>\n",
              "    </tr>\n",
              "  </thead>\n",
              "  <tbody>\n",
              "    <tr>\n",
              "      <th>36</th>\n",
              "      <td>Positive</td>\n",
              "      <td>gujarat pm modi lays foundation stone of airpo...</td>\n",
              "      <td>1</td>\n",
              "    </tr>\n",
              "    <tr>\n",
              "      <th>19</th>\n",
              "      <td>Positive</td>\n",
              "      <td>the dutch people demand a free market and not ...</td>\n",
              "      <td>1</td>\n",
              "    </tr>\n",
              "    <tr>\n",
              "      <th>49</th>\n",
              "      <td>Positive</td>\n",
              "      <td>download the best #app to share your #best #ai...</td>\n",
              "      <td>1</td>\n",
              "    </tr>\n",
              "    <tr>\n",
              "      <th>26</th>\n",
              "      <td>Positive</td>\n",
              "      <td>share the #best #air content download the best...</td>\n",
              "      <td>1</td>\n",
              "    </tr>\n",
              "    <tr>\n",
              "      <th>22</th>\n",
              "      <td>Negative</td>\n",
              "      <td>how likely is your airliner's engine to fail? ...</td>\n",
              "      <td>0</td>\n",
              "    </tr>\n",
              "  </tbody>\n",
              "</table>\n",
              "</div>\n",
              "      <button class=\"colab-df-convert\" onclick=\"convertToInteractive('df-99c5a369-afc1-4610-af2e-db8ed101bbcf')\"\n",
              "              title=\"Convert this dataframe to an interactive table.\"\n",
              "              style=\"display:none;\">\n",
              "        \n",
              "  <svg xmlns=\"http://www.w3.org/2000/svg\" height=\"24px\"viewBox=\"0 0 24 24\"\n",
              "       width=\"24px\">\n",
              "    <path d=\"M0 0h24v24H0V0z\" fill=\"none\"/>\n",
              "    <path d=\"M18.56 5.44l.94 2.06.94-2.06 2.06-.94-2.06-.94-.94-2.06-.94 2.06-2.06.94zm-11 1L8.5 8.5l.94-2.06 2.06-.94-2.06-.94L8.5 2.5l-.94 2.06-2.06.94zm10 10l.94 2.06.94-2.06 2.06-.94-2.06-.94-.94-2.06-.94 2.06-2.06.94z\"/><path d=\"M17.41 7.96l-1.37-1.37c-.4-.4-.92-.59-1.43-.59-.52 0-1.04.2-1.43.59L10.3 9.45l-7.72 7.72c-.78.78-.78 2.05 0 2.83L4 21.41c.39.39.9.59 1.41.59.51 0 1.02-.2 1.41-.59l7.78-7.78 2.81-2.81c.8-.78.8-2.07 0-2.86zM5.41 20L4 18.59l7.72-7.72 1.47 1.35L5.41 20z\"/>\n",
              "  </svg>\n",
              "      </button>\n",
              "      \n",
              "  <style>\n",
              "    .colab-df-container {\n",
              "      display:flex;\n",
              "      flex-wrap:wrap;\n",
              "      gap: 12px;\n",
              "    }\n",
              "\n",
              "    .colab-df-convert {\n",
              "      background-color: #E8F0FE;\n",
              "      border: none;\n",
              "      border-radius: 50%;\n",
              "      cursor: pointer;\n",
              "      display: none;\n",
              "      fill: #1967D2;\n",
              "      height: 32px;\n",
              "      padding: 0 0 0 0;\n",
              "      width: 32px;\n",
              "    }\n",
              "\n",
              "    .colab-df-convert:hover {\n",
              "      background-color: #E2EBFA;\n",
              "      box-shadow: 0px 1px 2px rgba(60, 64, 67, 0.3), 0px 1px 3px 1px rgba(60, 64, 67, 0.15);\n",
              "      fill: #174EA6;\n",
              "    }\n",
              "\n",
              "    [theme=dark] .colab-df-convert {\n",
              "      background-color: #3B4455;\n",
              "      fill: #D2E3FC;\n",
              "    }\n",
              "\n",
              "    [theme=dark] .colab-df-convert:hover {\n",
              "      background-color: #434B5C;\n",
              "      box-shadow: 0px 1px 3px 1px rgba(0, 0, 0, 0.15);\n",
              "      filter: drop-shadow(0px 1px 2px rgba(0, 0, 0, 0.3));\n",
              "      fill: #FFFFFF;\n",
              "    }\n",
              "  </style>\n",
              "\n",
              "      <script>\n",
              "        const buttonEl =\n",
              "          document.querySelector('#df-99c5a369-afc1-4610-af2e-db8ed101bbcf button.colab-df-convert');\n",
              "        buttonEl.style.display =\n",
              "          google.colab.kernel.accessAllowed ? 'block' : 'none';\n",
              "\n",
              "        async function convertToInteractive(key) {\n",
              "          const element = document.querySelector('#df-99c5a369-afc1-4610-af2e-db8ed101bbcf');\n",
              "          const dataTable =\n",
              "            await google.colab.kernel.invokeFunction('convertToInteractive',\n",
              "                                                     [key], {});\n",
              "          if (!dataTable) return;\n",
              "\n",
              "          const docLinkHtml = 'Like what you see? Visit the ' +\n",
              "            '<a target=\"_blank\" href=https://colab.research.google.com/notebooks/data_table.ipynb>data table notebook</a>'\n",
              "            + ' to learn more about interactive tables.';\n",
              "          element.innerHTML = '';\n",
              "          dataTable['output_type'] = 'display_data';\n",
              "          await google.colab.output.renderOutput(dataTable, element);\n",
              "          const docLink = document.createElement('div');\n",
              "          docLink.innerHTML = docLinkHtml;\n",
              "          element.appendChild(docLink);\n",
              "        }\n",
              "      </script>\n",
              "    </div>\n",
              "  </div>\n",
              "  "
            ]
          },
          "metadata": {},
          "execution_count": 33
        }
      ],
      "source": [
        "dfb_train.head()"
      ]
    },
    {
      "cell_type": "code",
      "execution_count": 34,
      "metadata": {
        "id": "gkBGjl4w-bfC"
      },
      "outputs": [],
      "source": [
        "X_train= vectorizer.fit_transform(dfb_train['Tweet'])\n",
        "X_test = vectorizer.transform(dfb_test['Tweet'])"
      ]
    },
    {
      "cell_type": "code",
      "execution_count": 35,
      "metadata": {
        "id": "L5LjOLiy-82X"
      },
      "outputs": [],
      "source": [
        "Y_train = dfb_train['target']\n",
        "Y_test = dfb_test['target'] "
      ]
    },
    {
      "cell_type": "code",
      "execution_count": 36,
      "metadata": {
        "colab": {
          "base_uri": "https://localhost:8080/"
        },
        "id": "uExnYlCA_TI-",
        "outputId": "42e60ae5-1d13-42e9-f5f0-963c2d45b0b0"
      },
      "outputs": [
        {
          "output_type": "stream",
          "name": "stdout",
          "text": [
            "Train acc: 0.7407407407407407\n",
            "Test acc: 0.9\n"
          ]
        }
      ],
      "source": [
        "model=LogisticRegression(max_iter=500)\n",
        "model.fit(X_train,Y_train)\n",
        "print(\"Train acc:\",model.score(X_train,Y_train))\n",
        "print(\"Test acc:\",model.score(X_test,Y_test))"
      ]
    },
    {
      "cell_type": "code",
      "execution_count": 37,
      "metadata": {
        "colab": {
          "base_uri": "https://localhost:8080/"
        },
        "id": "clBi8uhO_Sdh",
        "outputId": "dc3fc1df-e42b-43c5-bbc3-61e1855ac7c5"
      },
      "outputs": [
        {
          "output_type": "stream",
          "name": "stdout",
          "text": [
            "Train AUC: 1.0\n",
            "Test AUC: 0.8888888888888888\n"
          ]
        }
      ],
      "source": [
        "Pr_train=model.predict_proba(X_train)[:,-1]\n",
        "Pr_test=model.predict_proba(X_test)[:,-1]\n",
        "print(\"Train AUC:\",roc_auc_score(Y_train,Pr_train))\n",
        "print(\"Test AUC:\",roc_auc_score(Y_test,Pr_test))"
      ]
    },
    {
      "cell_type": "code",
      "execution_count": null,
      "metadata": {
        "id": "-UeDnicL_RhR"
      },
      "outputs": [],
      "source": [
        "model.coef_"
      ]
    },
    {
      "cell_type": "code",
      "execution_count": 39,
      "metadata": {
        "colab": {
          "base_uri": "https://localhost:8080/",
          "height": 268
        },
        "id": "oKaz3EYU_Keu",
        "outputId": "9904ea7c-328c-4523-c787-427167c3e8f6"
      },
      "outputs": [
        {
          "output_type": "display_data",
          "data": {
            "text/plain": [
              "<Figure size 432x288 with 1 Axes>"
            ],
            "image/png": "[encoded data removed]"
          },
          "metadata": {
            "needs_background": "light"
          }
        }
      ],
      "source": [
        "plt.hist(model.coef_[0],bins=30);"
      ]
    },
    {
      "cell_type": "code",
      "execution_count": null,
      "metadata": {
        "id": "vLBgv2QNCu_S"
      },
      "outputs": [],
      "source": [
        "word_index_map = vectorizer.vocabulary_\n",
        "word_index_map"
      ]
    },
    {
      "cell_type": "code",
      "execution_count": 41,
      "metadata": {
        "colab": {
          "base_uri": "https://localhost:8080/"
        },
        "id": "jaqivh8OC3aE",
        "outputId": "9fe8eff1-8382-4b28-ce79-52f69861313a"
      },
      "outputs": [
        {
          "output_type": "stream",
          "name": "stdout",
          "text": [
            "Most positive words:\n",
            "best 0.28084940988772333\n",
            "air 0.38294537489474617\n",
            "are 0.2401995965070271\n"
          ]
        }
      ],
      "source": [
        "threshold=0.2\n",
        "\n",
        "print(\"Most positive words:\")\n",
        "for word, index in word_index_map.items():\n",
        "  weight = model.coef_[0][index]\n",
        "  if weight > threshold:\n",
        "    print(word,weight)"
      ]
    },
    {
      "cell_type": "code",
      "execution_count": 42,
      "metadata": {
        "colab": {
          "base_uri": "https://localhost:8080/"
        },
        "id": "r_9W5El-C39L",
        "outputId": "98ff5dea-a889-4e07-aa79-780b271d77f3"
      },
      "outputs": [
        {
          "output_type": "stream",
          "name": "stdout",
          "text": [
            "Most negative words:\n",
            "flights -0.21983261936487455\n",
            "fear -0.21481519058136875\n",
            "flying -0.21481519058136875\n",
            "every -0.2868918216210341\n",
            "flight -0.22009229855826615\n",
            "worst -0.23400558276406047\n",
            "it -0.23908318610008586\n",
            "der -0.2937105253728456\n",
            "turbulence -0.3041188071813014\n"
          ]
        }
      ],
      "source": [
        "print(\"Most negative words:\")\n",
        "for word,index in word_index_map.items():\n",
        "  weight = model.coef_[0][index]\n",
        "  if weight < -threshold:\n",
        "    print(word,weight)"
      ]
    },
    {
      "cell_type": "code",
      "execution_count": 43,
      "metadata": {
        "colab": {
          "base_uri": "https://localhost:8080/",
          "height": 508
        },
        "id": "GuV2S4FufNGl",
        "outputId": "e57e16f3-b899-4d05-f290-5d36ec407298"
      },
      "outputs": [
        {
          "output_type": "display_data",
          "data": {
            "text/plain": [
              "<Figure size 640x480 with 1 Axes>"
            ],
            "image/png": "[encoded data removed]"
          },
          "metadata": {}
        }
      ],
      "source": [
        "import pandas as pd\n",
        "from matplotlib import pyplot as plot_cm\n",
        "\n",
        "plt.rcdefaults()\n",
        "plt.style.use('fivethirtyeight')\n",
        "\n",
        "data = pd.read_csv('extractedS.csv')\n",
        "\n",
        "date_ = data['Date']\n",
        "\n",
        "Neutral_Score = data['Neutral Score']\t\n",
        "Negative_Score = data['Negative Score']\t\n",
        "Positive_Score = data['Positive Score']\n",
        "\n",
        "plt.plot(date_, Neutral_Score, label=\"Neutral Score\")\n",
        "plt.plot(date_, Negative_Score, label=\"Negative Score\")\n",
        "plt.plot(date_, Positive_Score, label=\"Positive Score\")\n",
        "\n",
        "plt.legend()\n",
        "plt.title('Sentiment Analysis')\n",
        "plt.ylabel('Sentiment')\n",
        "plt.xlabel('Date')\n",
        "\n",
        "plt.savefig(\"plot.png\")\n",
        "plt.show()"
      ]
    },
    {
      "cell_type": "code",
      "source": [
        "from matplotlib import pyplot as plt\n",
        "import pandas as pd\n",
        "\n",
        "plt.style.use('bmh')\n",
        "df = pd.read_csv('extractedS.csv')\n",
        "\n",
        "x= df['Sentiment']\n",
        "y = df['Date']\n",
        "\n",
        "plt.xlabel('Sentiment',fontsize=18)\n",
        "plt.ylabel('Date',fontsize=16)\n",
        "#plt.pie(y,labels=x, radius=1.2,autopct='0.01f%%',shadow=True,explode=[.05,.2,.05,.2,.05,.2,.05])\n",
        "plt.plot(x,y)\n",
        "plt.show()\n",
        "\n",
        "\n"
      ],
      "metadata": {
        "colab": {
          "base_uri": "https://localhost:8080/",
          "height": 479
        },
        "id": "GlBgzxD1m9_U",
        "outputId": "0e05a1f5-1030-4655-e17a-b9d626640a24"
      },
      "execution_count": 44,
      "outputs": [
        {
          "output_type": "display_data",
          "data": {
            "text/plain": [
              "<Figure size 640x480 with 1 Axes>"
            ],
            "image/png": "[encoded data removed]"
          },
          "metadata": {}
        }
      ]
    },
    {
      "cell_type": "code",
      "execution_count": null,
      "metadata": {
        "id": "uym09R_jamIk"
      },
      "outputs": [],
      "source": [
        "                                 #  N E W  #"
      ]
    },
    {
      "cell_type": "code",
      "execution_count": null,
      "metadata": {
        "id": "uHV2ZeYjE4dS"
      },
      "outputs": [],
      "source": [
        "#https://www.kaggle.com/datasets/crowdflower/twitter-airline-sentiment"
      ]
    },
    {
      "cell_type": "code",
      "execution_count": null,
      "metadata": {
        "id": "5is3oYNff8dR"
      },
      "outputs": [],
      "source": [
        "import numpy as np\n",
        "import pandas as pd\n",
        "from PIL import Image\n",
        "import plotly.express as px\n",
        "from nltk.corpus import wordnet\n",
        "from nltk.corpus import stopwords\n",
        "from nltk.sentiment.util import *\n",
        "from nltk.stem import WordNetLemmatizer \n",
        "from matplotlib import pyplot as plt\n",
        "\n",
        "import seaborn as sn\n",
        "np.random.seed(1)\n",
        "\n",
        "from sklearn.feature_extraction.text import CountVectorizer,TfidfVectorizer\n",
        "from sklearn.linear_model import LogisticRegression\n",
        "from sklearn.metrics import roc_auc_score, f1_score, confusion_matrix\n",
        "from sklearn.model_selection import train_test_split\n"
      ]
    },
    {
      "cell_type": "code",
      "execution_count": null,
      "metadata": {
        "id": "8Z4J1Fizox5x"
      },
      "outputs": [],
      "source": [
        "df_ = pd.read_csv('airline_sentiment.csv')"
      ]
    },
    {
      "cell_type": "code",
      "execution_count": null,
      "metadata": {
        "colab": {
          "base_uri": "https://localhost:8080/",
          "height": 206
        },
        "id": "WxNEYm4AFcdT",
        "outputId": "14e7a275-3df9-4059-cf18-828289c25027"
      },
      "outputs": [
        {
          "data": {
            "text/html": [
              "\n",
              "  <div id=\"df-5f993880-fa87-4b45-8efd-14cde44f1a9f\">\n",
              "    <div class=\"colab-df-container\">\n",
              "      <div>\n",
              "<style scoped>\n",
              "    .dataframe tbody tr th:only-of-type {\n",
              "        vertical-align: middle;\n",
              "    }\n",
              "\n",
              "    .dataframe tbody tr th {\n",
              "        vertical-align: top;\n",
              "    }\n",
              "\n",
              "    .dataframe thead th {\n",
              "        text-align: right;\n",
              "    }\n",
              "</style>\n",
              "<table border=\"1\" class=\"dataframe\">\n",
              "  <thead>\n",
              "    <tr style=\"text-align: right;\">\n",
              "      <th></th>\n",
              "      <th>Sentiment</th>\n",
              "      <th>Tweet</th>\n",
              "      <th>target</th>\n",
              "    </tr>\n",
              "  </thead>\n",
              "  <tbody>\n",
              "    <tr>\n",
              "      <th>0</th>\n",
              "      <td>Positive</td>\n",
              "      <td>fear of flying? businestravellife says try thi...</td>\n",
              "      <td>1</td>\n",
              "    </tr>\n",
              "    <tr>\n",
              "      <th>1</th>\n",
              "      <td>Positive</td>\n",
              "      <td>why don t #airlines have co2 monitors displayi...</td>\n",
              "      <td>1</td>\n",
              "    </tr>\n",
              "    <tr>\n",
              "      <th>2</th>\n",
              "      <td>Positive</td>\n",
              "      <td>record breaker belfast welcomes one of the wor...</td>\n",
              "      <td>1</td>\n",
              "    </tr>\n",
              "    <tr>\n",
              "      <th>3</th>\n",
              "      <td>Neutral</td>\n",
              "      <td>aircraft airline airport travel trip ana jal ...</td>\n",
              "      <td>2</td>\n",
              "    </tr>\n",
              "    <tr>\n",
              "      <th>4</th>\n",
              "      <td>Positive</td>\n",
              "      <td>visit our nj career center for an onsite presc...</td>\n",
              "      <td>1</td>\n",
              "    </tr>\n",
              "  </tbody>\n",
              "</table>\n",
              "</div>\n",
              "      <button class=\"colab-df-convert\" onclick=\"convertToInteractive('df-5f993880-fa87-4b45-8efd-14cde44f1a9f')\"\n",
              "              title=\"Convert this dataframe to an interactive table.\"\n",
              "              style=\"display:none;\">\n",
              "        \n",
              "  <svg xmlns=\"http://www.w3.org/2000/svg\" height=\"24px\"viewBox=\"0 0 24 24\"\n",
              "       width=\"24px\">\n",
              "    <path d=\"M0 0h24v24H0V0z\" fill=\"none\"/>\n",
              "    <path d=\"M18.56 5.44l.94 2.06.94-2.06 2.06-.94-2.06-.94-.94-2.06-.94 2.06-2.06.94zm-11 1L8.5 8.5l.94-2.06 2.06-.94-2.06-.94L8.5 2.5l-.94 2.06-2.06.94zm10 10l.94 2.06.94-2.06 2.06-.94-2.06-.94-.94-2.06-.94 2.06-2.06.94z\"/><path d=\"M17.41 7.96l-1.37-1.37c-.4-.4-.92-.59-1.43-.59-.52 0-1.04.2-1.43.59L10.3 9.45l-7.72 7.72c-.78.78-.78 2.05 0 2.83L4 21.41c.39.39.9.59 1.41.59.51 0 1.02-.2 1.41-.59l7.78-7.78 2.81-2.81c.8-.78.8-2.07 0-2.86zM5.41 20L4 18.59l7.72-7.72 1.47 1.35L5.41 20z\"/>\n",
              "  </svg>\n",
              "      </button>\n",
              "      \n",
              "  <style>\n",
              "    .colab-df-container {\n",
              "      display:flex;\n",
              "      flex-wrap:wrap;\n",
              "      gap: 12px;\n",
              "    }\n",
              "\n",
              "    .colab-df-convert {\n",
              "      background-color: #E8F0FE;\n",
              "      border: none;\n",
              "      border-radius: 50%;\n",
              "      cursor: pointer;\n",
              "      display: none;\n",
              "      fill: #1967D2;\n",
              "      height: 32px;\n",
              "      padding: 0 0 0 0;\n",
              "      width: 32px;\n",
              "    }\n",
              "\n",
              "    .colab-df-convert:hover {\n",
              "      background-color: #E2EBFA;\n",
              "      box-shadow: 0px 1px 2px rgba(60, 64, 67, 0.3), 0px 1px 3px 1px rgba(60, 64, 67, 0.15);\n",
              "      fill: #174EA6;\n",
              "    }\n",
              "\n",
              "    [theme=dark] .colab-df-convert {\n",
              "      background-color: #3B4455;\n",
              "      fill: #D2E3FC;\n",
              "    }\n",
              "\n",
              "    [theme=dark] .colab-df-convert:hover {\n",
              "      background-color: #434B5C;\n",
              "      box-shadow: 0px 1px 3px 1px rgba(0, 0, 0, 0.15);\n",
              "      filter: drop-shadow(0px 1px 2px rgba(0, 0, 0, 0.3));\n",
              "      fill: #FFFFFF;\n",
              "    }\n",
              "  </style>\n",
              "\n",
              "      <script>\n",
              "        const buttonEl =\n",
              "          document.querySelector('#df-5f993880-fa87-4b45-8efd-14cde44f1a9f button.colab-df-convert');\n",
              "        buttonEl.style.display =\n",
              "          google.colab.kernel.accessAllowed ? 'block' : 'none';\n",
              "\n",
              "        async function convertToInteractive(key) {\n",
              "          const element = document.querySelector('#df-5f993880-fa87-4b45-8efd-14cde44f1a9f');\n",
              "          const dataTable =\n",
              "            await google.colab.kernel.invokeFunction('convertToInteractive',\n",
              "                                                     [key], {});\n",
              "          if (!dataTable) return;\n",
              "\n",
              "          const docLinkHtml = 'Like what you see? Visit the ' +\n",
              "            '<a target=\"_blank\" href=https://colab.research.google.com/notebooks/data_table.ipynb>data table notebook</a>'\n",
              "            + ' to learn more about interactive tables.';\n",
              "          element.innerHTML = '';\n",
              "          dataTable['output_type'] = 'display_data';\n",
              "          await google.colab.output.renderOutput(dataTable, element);\n",
              "          const docLink = document.createElement('div');\n",
              "          docLink.innerHTML = docLinkHtml;\n",
              "          element.appendChild(docLink);\n",
              "        }\n",
              "      </script>\n",
              "    </div>\n",
              "  </div>\n",
              "  "
            ],
            "text/plain": [
              "  Sentiment                                              Tweet  target\n",
              "0  Positive  fear of flying? businestravellife says try thi...       1\n",
              "1  Positive  why don t #airlines have co2 monitors displayi...       1\n",
              "2  Positive  record breaker belfast welcomes one of the wor...       1\n",
              "3   Neutral   aircraft airline airport travel trip ana jal ...       2\n",
              "4  Positive  visit our nj career center for an onsite presc...       1"
            ]
          },
          "execution_count": 77,
          "metadata": {},
          "output_type": "execute_result"
        }
      ],
      "source": [
        "df_.head()"
      ]
    },
    {
      "cell_type": "code",
      "execution_count": null,
      "metadata": {
        "id": "kZ8FPbcEFfo7"
      },
      "outputs": [],
      "source": [
        "df = df_[['airline_sentiment','text']].copy()"
      ]
    },
    {
      "cell_type": "code",
      "execution_count": null,
      "metadata": {
        "colab": {
          "base_uri": "https://localhost:8080/",
          "height": 676
        },
        "id": "uxWA2N_dqekf",
        "outputId": "584c1943-3068-42a8-cf84-a2b12f61c313"
      },
      "outputs": [
        {
          "data": {
            "text/html": [
              "\n",
              "  <div id=\"df-4797010a-7d1b-4881-949d-d7948066d5e1\">\n",
              "    <div class=\"colab-df-container\">\n",
              "      <div>\n",
              "<style scoped>\n",
              "    .dataframe tbody tr th:only-of-type {\n",
              "        vertical-align: middle;\n",
              "    }\n",
              "\n",
              "    .dataframe tbody tr th {\n",
              "        vertical-align: top;\n",
              "    }\n",
              "\n",
              "    .dataframe thead th {\n",
              "        text-align: right;\n",
              "    }\n",
              "</style>\n",
              "<table border=\"1\" class=\"dataframe\">\n",
              "  <thead>\n",
              "    <tr style=\"text-align: right;\">\n",
              "      <th></th>\n",
              "      <th>airline_sentiment</th>\n",
              "      <th>text</th>\n",
              "    </tr>\n",
              "  </thead>\n",
              "  <tbody>\n",
              "    <tr>\n",
              "      <th>0</th>\n",
              "      <td>neutral</td>\n",
              "      <td>@VirginAmerica What @dhepburn said.</td>\n",
              "    </tr>\n",
              "    <tr>\n",
              "      <th>1</th>\n",
              "      <td>positive</td>\n",
              "      <td>@VirginAmerica plus you've added commercials t...</td>\n",
              "    </tr>\n",
              "    <tr>\n",
              "      <th>2</th>\n",
              "      <td>neutral</td>\n",
              "      <td>@VirginAmerica I didn't today... Must mean I n...</td>\n",
              "    </tr>\n",
              "    <tr>\n",
              "      <th>3</th>\n",
              "      <td>negative</td>\n",
              "      <td>@VirginAmerica it's really aggressive to blast...</td>\n",
              "    </tr>\n",
              "    <tr>\n",
              "      <th>4</th>\n",
              "      <td>negative</td>\n",
              "      <td>@VirginAmerica and it's a really big bad thing...</td>\n",
              "    </tr>\n",
              "    <tr>\n",
              "      <th>5</th>\n",
              "      <td>negative</td>\n",
              "      <td>@VirginAmerica seriously would pay $30 a fligh...</td>\n",
              "    </tr>\n",
              "    <tr>\n",
              "      <th>6</th>\n",
              "      <td>positive</td>\n",
              "      <td>@VirginAmerica yes, nearly every time I fly VX...</td>\n",
              "    </tr>\n",
              "    <tr>\n",
              "      <th>7</th>\n",
              "      <td>neutral</td>\n",
              "      <td>@VirginAmerica Really missed a prime opportuni...</td>\n",
              "    </tr>\n",
              "    <tr>\n",
              "      <th>8</th>\n",
              "      <td>positive</td>\n",
              "      <td>@virginamerica Well, I didn't…but NOW I DO! :-D</td>\n",
              "    </tr>\n",
              "    <tr>\n",
              "      <th>9</th>\n",
              "      <td>positive</td>\n",
              "      <td>@VirginAmerica it was amazing, and arrived an ...</td>\n",
              "    </tr>\n",
              "    <tr>\n",
              "      <th>10</th>\n",
              "      <td>neutral</td>\n",
              "      <td>@VirginAmerica did you know that suicide is th...</td>\n",
              "    </tr>\n",
              "    <tr>\n",
              "      <th>11</th>\n",
              "      <td>positive</td>\n",
              "      <td>@VirginAmerica I &amp;lt;3 pretty graphics. so muc...</td>\n",
              "    </tr>\n",
              "    <tr>\n",
              "      <th>12</th>\n",
              "      <td>positive</td>\n",
              "      <td>@VirginAmerica This is such a great deal! Alre...</td>\n",
              "    </tr>\n",
              "    <tr>\n",
              "      <th>13</th>\n",
              "      <td>positive</td>\n",
              "      <td>@VirginAmerica @virginmedia I'm flying your #f...</td>\n",
              "    </tr>\n",
              "    <tr>\n",
              "      <th>14</th>\n",
              "      <td>positive</td>\n",
              "      <td>@VirginAmerica Thanks!</td>\n",
              "    </tr>\n",
              "    <tr>\n",
              "      <th>15</th>\n",
              "      <td>negative</td>\n",
              "      <td>@VirginAmerica SFO-PDX schedule is still MIA.</td>\n",
              "    </tr>\n",
              "    <tr>\n",
              "      <th>16</th>\n",
              "      <td>positive</td>\n",
              "      <td>@VirginAmerica So excited for my first cross c...</td>\n",
              "    </tr>\n",
              "    <tr>\n",
              "      <th>17</th>\n",
              "      <td>negative</td>\n",
              "      <td>@VirginAmerica  I flew from NYC to SFO last we...</td>\n",
              "    </tr>\n",
              "    <tr>\n",
              "      <th>18</th>\n",
              "      <td>positive</td>\n",
              "      <td>I ❤️ flying @VirginAmerica. ☺️👍</td>\n",
              "    </tr>\n",
              "    <tr>\n",
              "      <th>19</th>\n",
              "      <td>positive</td>\n",
              "      <td>@VirginAmerica you know what would be amazingl...</td>\n",
              "    </tr>\n",
              "  </tbody>\n",
              "</table>\n",
              "</div>\n",
              "      <button class=\"colab-df-convert\" onclick=\"convertToInteractive('df-4797010a-7d1b-4881-949d-d7948066d5e1')\"\n",
              "              title=\"Convert this dataframe to an interactive table.\"\n",
              "              style=\"display:none;\">\n",
              "        \n",
              "  <svg xmlns=\"http://www.w3.org/2000/svg\" height=\"24px\"viewBox=\"0 0 24 24\"\n",
              "       width=\"24px\">\n",
              "    <path d=\"M0 0h24v24H0V0z\" fill=\"none\"/>\n",
              "    <path d=\"M18.56 5.44l.94 2.06.94-2.06 2.06-.94-2.06-.94-.94-2.06-.94 2.06-2.06.94zm-11 1L8.5 8.5l.94-2.06 2.06-.94-2.06-.94L8.5 2.5l-.94 2.06-2.06.94zm10 10l.94 2.06.94-2.06 2.06-.94-2.06-.94-.94-2.06-.94 2.06-2.06.94z\"/><path d=\"M17.41 7.96l-1.37-1.37c-.4-.4-.92-.59-1.43-.59-.52 0-1.04.2-1.43.59L10.3 9.45l-7.72 7.72c-.78.78-.78 2.05 0 2.83L4 21.41c.39.39.9.59 1.41.59.51 0 1.02-.2 1.41-.59l7.78-7.78 2.81-2.81c.8-.78.8-2.07 0-2.86zM5.41 20L4 18.59l7.72-7.72 1.47 1.35L5.41 20z\"/>\n",
              "  </svg>\n",
              "      </button>\n",
              "      \n",
              "  <style>\n",
              "    .colab-df-container {\n",
              "      display:flex;\n",
              "      flex-wrap:wrap;\n",
              "      gap: 12px;\n",
              "    }\n",
              "\n",
              "    .colab-df-convert {\n",
              "      background-color: #E8F0FE;\n",
              "      border: none;\n",
              "      border-radius: 50%;\n",
              "      cursor: pointer;\n",
              "      display: none;\n",
              "      fill: #1967D2;\n",
              "      height: 32px;\n",
              "      padding: 0 0 0 0;\n",
              "      width: 32px;\n",
              "    }\n",
              "\n",
              "    .colab-df-convert:hover {\n",
              "      background-color: #E2EBFA;\n",
              "      box-shadow: 0px 1px 2px rgba(60, 64, 67, 0.3), 0px 1px 3px 1px rgba(60, 64, 67, 0.15);\n",
              "      fill: #174EA6;\n",
              "    }\n",
              "\n",
              "    [theme=dark] .colab-df-convert {\n",
              "      background-color: #3B4455;\n",
              "      fill: #D2E3FC;\n",
              "    }\n",
              "\n",
              "    [theme=dark] .colab-df-convert:hover {\n",
              "      background-color: #434B5C;\n",
              "      box-shadow: 0px 1px 3px 1px rgba(0, 0, 0, 0.15);\n",
              "      filter: drop-shadow(0px 1px 2px rgba(0, 0, 0, 0.3));\n",
              "      fill: #FFFFFF;\n",
              "    }\n",
              "  </style>\n",
              "\n",
              "      <script>\n",
              "        const buttonEl =\n",
              "          document.querySelector('#df-4797010a-7d1b-4881-949d-d7948066d5e1 button.colab-df-convert');\n",
              "        buttonEl.style.display =\n",
              "          google.colab.kernel.accessAllowed ? 'block' : 'none';\n",
              "\n",
              "        async function convertToInteractive(key) {\n",
              "          const element = document.querySelector('#df-4797010a-7d1b-4881-949d-d7948066d5e1');\n",
              "          const dataTable =\n",
              "            await google.colab.kernel.invokeFunction('convertToInteractive',\n",
              "                                                     [key], {});\n",
              "          if (!dataTable) return;\n",
              "\n",
              "          const docLinkHtml = 'Like what you see? Visit the ' +\n",
              "            '<a target=\"_blank\" href=https://colab.research.google.com/notebooks/data_table.ipynb>data table notebook</a>'\n",
              "            + ' to learn more about interactive tables.';\n",
              "          element.innerHTML = '';\n",
              "          dataTable['output_type'] = 'display_data';\n",
              "          await google.colab.output.renderOutput(dataTable, element);\n",
              "          const docLink = document.createElement('div');\n",
              "          docLink.innerHTML = docLinkHtml;\n",
              "          element.appendChild(docLink);\n",
              "        }\n",
              "      </script>\n",
              "    </div>\n",
              "  </div>\n",
              "  "
            ],
            "text/plain": [
              "   airline_sentiment                                               text\n",
              "0            neutral                @VirginAmerica What @dhepburn said.\n",
              "1           positive  @VirginAmerica plus you've added commercials t...\n",
              "2            neutral  @VirginAmerica I didn't today... Must mean I n...\n",
              "3           negative  @VirginAmerica it's really aggressive to blast...\n",
              "4           negative  @VirginAmerica and it's a really big bad thing...\n",
              "5           negative  @VirginAmerica seriously would pay $30 a fligh...\n",
              "6           positive  @VirginAmerica yes, nearly every time I fly VX...\n",
              "7            neutral  @VirginAmerica Really missed a prime opportuni...\n",
              "8           positive    @virginamerica Well, I didn't…but NOW I DO! :-D\n",
              "9           positive  @VirginAmerica it was amazing, and arrived an ...\n",
              "10           neutral  @VirginAmerica did you know that suicide is th...\n",
              "11          positive  @VirginAmerica I &lt;3 pretty graphics. so muc...\n",
              "12          positive  @VirginAmerica This is such a great deal! Alre...\n",
              "13          positive  @VirginAmerica @virginmedia I'm flying your #f...\n",
              "14          positive                             @VirginAmerica Thanks!\n",
              "15          negative      @VirginAmerica SFO-PDX schedule is still MIA.\n",
              "16          positive  @VirginAmerica So excited for my first cross c...\n",
              "17          negative  @VirginAmerica  I flew from NYC to SFO last we...\n",
              "18          positive                    I ❤️ flying @VirginAmerica. ☺️👍\n",
              "19          positive  @VirginAmerica you know what would be amazingl..."
            ]
          },
          "execution_count": 81,
          "metadata": {},
          "output_type": "execute_result"
        }
      ],
      "source": [
        "df.head(20)"
      ]
    },
    {
      "cell_type": "code",
      "execution_count": null,
      "metadata": {
        "colab": {
          "base_uri": "https://localhost:8080/",
          "height": 282
        },
        "id": "tiBoq2TiZC8_",
        "outputId": "496cdb19-8df4-456a-aeab-565aac8ca9df"
      },
      "outputs": [
        {
          "data": {
            "text/plain": [
              "<matplotlib.axes._subplots.AxesSubplot at 0x7fa925469810>"
            ]
          },
          "execution_count": 82,
          "metadata": {},
          "output_type": "execute_result"
        },
        {
          "data": {
            "image/png": "[encoded data removed]",
            "text/plain": [
              "<Figure size 432x288 with 1 Axes>"
            ]
          },
          "metadata": {},
          "output_type": "display_data"
        }
      ],
      "source": [
        "df['airline_sentiment'].hist()"
      ]
    },
    {
      "cell_type": "code",
      "execution_count": null,
      "metadata": {
        "id": "LY0R8-VLaGct"
      },
      "outputs": [],
      "source": [
        "target_map = {'positive':1,'negative':0, 'neutral':2}\n",
        "df['target'] = df['airline_sentiment'].map(target_map)"
      ]
    },
    {
      "cell_type": "code",
      "execution_count": null,
      "metadata": {
        "colab": {
          "base_uri": "https://localhost:8080/",
          "height": 206
        },
        "id": "SnWo0aU5aklY",
        "outputId": "7187d25a-7357-4cb0-bac7-31b2cdd976fd"
      },
      "outputs": [
        {
          "data": {
            "text/html": [
              "\n",
              "  <div id=\"df-adca5f9e-d23e-4e1b-9000-c8b4aec2b55c\">\n",
              "    <div class=\"colab-df-container\">\n",
              "      <div>\n",
              "<style scoped>\n",
              "    .dataframe tbody tr th:only-of-type {\n",
              "        vertical-align: middle;\n",
              "    }\n",
              "\n",
              "    .dataframe tbody tr th {\n",
              "        vertical-align: top;\n",
              "    }\n",
              "\n",
              "    .dataframe thead th {\n",
              "        text-align: right;\n",
              "    }\n",
              "</style>\n",
              "<table border=\"1\" class=\"dataframe\">\n",
              "  <thead>\n",
              "    <tr style=\"text-align: right;\">\n",
              "      <th></th>\n",
              "      <th>airline_sentiment</th>\n",
              "      <th>text</th>\n",
              "      <th>target</th>\n",
              "    </tr>\n",
              "  </thead>\n",
              "  <tbody>\n",
              "    <tr>\n",
              "      <th>0</th>\n",
              "      <td>neutral</td>\n",
              "      <td>@VirginAmerica What @dhepburn said.</td>\n",
              "      <td>2</td>\n",
              "    </tr>\n",
              "    <tr>\n",
              "      <th>1</th>\n",
              "      <td>positive</td>\n",
              "      <td>@VirginAmerica plus you've added commercials t...</td>\n",
              "      <td>1</td>\n",
              "    </tr>\n",
              "    <tr>\n",
              "      <th>2</th>\n",
              "      <td>neutral</td>\n",
              "      <td>@VirginAmerica I didn't today... Must mean I n...</td>\n",
              "      <td>2</td>\n",
              "    </tr>\n",
              "    <tr>\n",
              "      <th>3</th>\n",
              "      <td>negative</td>\n",
              "      <td>@VirginAmerica it's really aggressive to blast...</td>\n",
              "      <td>0</td>\n",
              "    </tr>\n",
              "    <tr>\n",
              "      <th>4</th>\n",
              "      <td>negative</td>\n",
              "      <td>@VirginAmerica and it's a really big bad thing...</td>\n",
              "      <td>0</td>\n",
              "    </tr>\n",
              "  </tbody>\n",
              "</table>\n",
              "</div>\n",
              "      <button class=\"colab-df-convert\" onclick=\"convertToInteractive('df-adca5f9e-d23e-4e1b-9000-c8b4aec2b55c')\"\n",
              "              title=\"Convert this dataframe to an interactive table.\"\n",
              "              style=\"display:none;\">\n",
              "        \n",
              "  <svg xmlns=\"http://www.w3.org/2000/svg\" height=\"24px\"viewBox=\"0 0 24 24\"\n",
              "       width=\"24px\">\n",
              "    <path d=\"M0 0h24v24H0V0z\" fill=\"none\"/>\n",
              "    <path d=\"M18.56 5.44l.94 2.06.94-2.06 2.06-.94-2.06-.94-.94-2.06-.94 2.06-2.06.94zm-11 1L8.5 8.5l.94-2.06 2.06-.94-2.06-.94L8.5 2.5l-.94 2.06-2.06.94zm10 10l.94 2.06.94-2.06 2.06-.94-2.06-.94-.94-2.06-.94 2.06-2.06.94z\"/><path d=\"M17.41 7.96l-1.37-1.37c-.4-.4-.92-.59-1.43-.59-.52 0-1.04.2-1.43.59L10.3 9.45l-7.72 7.72c-.78.78-.78 2.05 0 2.83L4 21.41c.39.39.9.59 1.41.59.51 0 1.02-.2 1.41-.59l7.78-7.78 2.81-2.81c.8-.78.8-2.07 0-2.86zM5.41 20L4 18.59l7.72-7.72 1.47 1.35L5.41 20z\"/>\n",
              "  </svg>\n",
              "      </button>\n",
              "      \n",
              "  <style>\n",
              "    .colab-df-container {\n",
              "      display:flex;\n",
              "      flex-wrap:wrap;\n",
              "      gap: 12px;\n",
              "    }\n",
              "\n",
              "    .colab-df-convert {\n",
              "      background-color: #E8F0FE;\n",
              "      border: none;\n",
              "      border-radius: 50%;\n",
              "      cursor: pointer;\n",
              "      display: none;\n",
              "      fill: #1967D2;\n",
              "      height: 32px;\n",
              "      padding: 0 0 0 0;\n",
              "      width: 32px;\n",
              "    }\n",
              "\n",
              "    .colab-df-convert:hover {\n",
              "      background-color: #E2EBFA;\n",
              "      box-shadow: 0px 1px 2px rgba(60, 64, 67, 0.3), 0px 1px 3px 1px rgba(60, 64, 67, 0.15);\n",
              "      fill: #174EA6;\n",
              "    }\n",
              "\n",
              "    [theme=dark] .colab-df-convert {\n",
              "      background-color: #3B4455;\n",
              "      fill: #D2E3FC;\n",
              "    }\n",
              "\n",
              "    [theme=dark] .colab-df-convert:hover {\n",
              "      background-color: #434B5C;\n",
              "      box-shadow: 0px 1px 3px 1px rgba(0, 0, 0, 0.15);\n",
              "      filter: drop-shadow(0px 1px 2px rgba(0, 0, 0, 0.3));\n",
              "      fill: #FFFFFF;\n",
              "    }\n",
              "  </style>\n",
              "\n",
              "      <script>\n",
              "        const buttonEl =\n",
              "          document.querySelector('#df-adca5f9e-d23e-4e1b-9000-c8b4aec2b55c button.colab-df-convert');\n",
              "        buttonEl.style.display =\n",
              "          google.colab.kernel.accessAllowed ? 'block' : 'none';\n",
              "\n",
              "        async function convertToInteractive(key) {\n",
              "          const element = document.querySelector('#df-adca5f9e-d23e-4e1b-9000-c8b4aec2b55c');\n",
              "          const dataTable =\n",
              "            await google.colab.kernel.invokeFunction('convertToInteractive',\n",
              "                                                     [key], {});\n",
              "          if (!dataTable) return;\n",
              "\n",
              "          const docLinkHtml = 'Like what you see? Visit the ' +\n",
              "            '<a target=\"_blank\" href=https://colab.research.google.com/notebooks/data_table.ipynb>data table notebook</a>'\n",
              "            + ' to learn more about interactive tables.';\n",
              "          element.innerHTML = '';\n",
              "          dataTable['output_type'] = 'display_data';\n",
              "          await google.colab.output.renderOutput(dataTable, element);\n",
              "          const docLink = document.createElement('div');\n",
              "          docLink.innerHTML = docLinkHtml;\n",
              "          element.appendChild(docLink);\n",
              "        }\n",
              "      </script>\n",
              "    </div>\n",
              "  </div>\n",
              "  "
            ],
            "text/plain": [
              "  airline_sentiment                                               text  target\n",
              "0           neutral                @VirginAmerica What @dhepburn said.       2\n",
              "1          positive  @VirginAmerica plus you've added commercials t...       1\n",
              "2           neutral  @VirginAmerica I didn't today... Must mean I n...       2\n",
              "3          negative  @VirginAmerica it's really aggressive to blast...       0\n",
              "4          negative  @VirginAmerica and it's a really big bad thing...       0"
            ]
          },
          "execution_count": 84,
          "metadata": {},
          "output_type": "execute_result"
        }
      ],
      "source": [
        "df.head()"
      ]
    },
    {
      "cell_type": "code",
      "execution_count": null,
      "metadata": {
        "id": "_8GLHEHJbuOt"
      },
      "outputs": [],
      "source": [
        "df_train, df_test = train_test_split(df)"
      ]
    },
    {
      "cell_type": "code",
      "execution_count": null,
      "metadata": {
        "colab": {
          "base_uri": "https://localhost:8080/",
          "height": 206
        },
        "id": "wErQ_yMQdOHj",
        "outputId": "e0555e7a-53e5-4f0a-e670-8a1d46ca48b1"
      },
      "outputs": [
        {
          "data": {
            "text/html": [
              "\n",
              "  <div id=\"df-617c79ae-2c87-435b-a7a8-0c8b15849a4d\">\n",
              "    <div class=\"colab-df-container\">\n",
              "      <div>\n",
              "<style scoped>\n",
              "    .dataframe tbody tr th:only-of-type {\n",
              "        vertical-align: middle;\n",
              "    }\n",
              "\n",
              "    .dataframe tbody tr th {\n",
              "        vertical-align: top;\n",
              "    }\n",
              "\n",
              "    .dataframe thead th {\n",
              "        text-align: right;\n",
              "    }\n",
              "</style>\n",
              "<table border=\"1\" class=\"dataframe\">\n",
              "  <thead>\n",
              "    <tr style=\"text-align: right;\">\n",
              "      <th></th>\n",
              "      <th>airline_sentiment</th>\n",
              "      <th>text</th>\n",
              "      <th>target</th>\n",
              "    </tr>\n",
              "  </thead>\n",
              "  <tbody>\n",
              "    <tr>\n",
              "      <th>1041</th>\n",
              "      <td>negative</td>\n",
              "      <td>@united Change made in just over 3 hours. For ...</td>\n",
              "      <td>0</td>\n",
              "    </tr>\n",
              "    <tr>\n",
              "      <th>1989</th>\n",
              "      <td>negative</td>\n",
              "      <td>@united The engineer that designed the 787 doo...</td>\n",
              "      <td>0</td>\n",
              "    </tr>\n",
              "    <tr>\n",
              "      <th>14309</th>\n",
              "      <td>negative</td>\n",
              "      <td>@AmericanAir 11 out of 11 delayed flights, you...</td>\n",
              "      <td>0</td>\n",
              "    </tr>\n",
              "    <tr>\n",
              "      <th>1711</th>\n",
              "      <td>negative</td>\n",
              "      <td>@united ouch not fair</td>\n",
              "      <td>0</td>\n",
              "    </tr>\n",
              "    <tr>\n",
              "      <th>11542</th>\n",
              "      <td>negative</td>\n",
              "      <td>@USAirways stuck in cae need reFlight Booking ...</td>\n",
              "      <td>0</td>\n",
              "    </tr>\n",
              "  </tbody>\n",
              "</table>\n",
              "</div>\n",
              "      <button class=\"colab-df-convert\" onclick=\"convertToInteractive('df-617c79ae-2c87-435b-a7a8-0c8b15849a4d')\"\n",
              "              title=\"Convert this dataframe to an interactive table.\"\n",
              "              style=\"display:none;\">\n",
              "        \n",
              "  <svg xmlns=\"http://www.w3.org/2000/svg\" height=\"24px\"viewBox=\"0 0 24 24\"\n",
              "       width=\"24px\">\n",
              "    <path d=\"M0 0h24v24H0V0z\" fill=\"none\"/>\n",
              "    <path d=\"M18.56 5.44l.94 2.06.94-2.06 2.06-.94-2.06-.94-.94-2.06-.94 2.06-2.06.94zm-11 1L8.5 8.5l.94-2.06 2.06-.94-2.06-.94L8.5 2.5l-.94 2.06-2.06.94zm10 10l.94 2.06.94-2.06 2.06-.94-2.06-.94-.94-2.06-.94 2.06-2.06.94z\"/><path d=\"M17.41 7.96l-1.37-1.37c-.4-.4-.92-.59-1.43-.59-.52 0-1.04.2-1.43.59L10.3 9.45l-7.72 7.72c-.78.78-.78 2.05 0 2.83L4 21.41c.39.39.9.59 1.41.59.51 0 1.02-.2 1.41-.59l7.78-7.78 2.81-2.81c.8-.78.8-2.07 0-2.86zM5.41 20L4 18.59l7.72-7.72 1.47 1.35L5.41 20z\"/>\n",
              "  </svg>\n",
              "      </button>\n",
              "      \n",
              "  <style>\n",
              "    .colab-df-container {\n",
              "      display:flex;\n",
              "      flex-wrap:wrap;\n",
              "      gap: 12px;\n",
              "    }\n",
              "\n",
              "    .colab-df-convert {\n",
              "      background-color: #E8F0FE;\n",
              "      border: none;\n",
              "      border-radius: 50%;\n",
              "      cursor: pointer;\n",
              "      display: none;\n",
              "      fill: #1967D2;\n",
              "      height: 32px;\n",
              "      padding: 0 0 0 0;\n",
              "      width: 32px;\n",
              "    }\n",
              "\n",
              "    .colab-df-convert:hover {\n",
              "      background-color: #E2EBFA;\n",
              "      box-shadow: 0px 1px 2px rgba(60, 64, 67, 0.3), 0px 1px 3px 1px rgba(60, 64, 67, 0.15);\n",
              "      fill: #174EA6;\n",
              "    }\n",
              "\n",
              "    [theme=dark] .colab-df-convert {\n",
              "      background-color: #3B4455;\n",
              "      fill: #D2E3FC;\n",
              "    }\n",
              "\n",
              "    [theme=dark] .colab-df-convert:hover {\n",
              "      background-color: #434B5C;\n",
              "      box-shadow: 0px 1px 3px 1px rgba(0, 0, 0, 0.15);\n",
              "      filter: drop-shadow(0px 1px 2px rgba(0, 0, 0, 0.3));\n",
              "      fill: #FFFFFF;\n",
              "    }\n",
              "  </style>\n",
              "\n",
              "      <script>\n",
              "        const buttonEl =\n",
              "          document.querySelector('#df-617c79ae-2c87-435b-a7a8-0c8b15849a4d button.colab-df-convert');\n",
              "        buttonEl.style.display =\n",
              "          google.colab.kernel.accessAllowed ? 'block' : 'none';\n",
              "\n",
              "        async function convertToInteractive(key) {\n",
              "          const element = document.querySelector('#df-617c79ae-2c87-435b-a7a8-0c8b15849a4d');\n",
              "          const dataTable =\n",
              "            await google.colab.kernel.invokeFunction('convertToInteractive',\n",
              "                                                     [key], {});\n",
              "          if (!dataTable) return;\n",
              "\n",
              "          const docLinkHtml = 'Like what you see? Visit the ' +\n",
              "            '<a target=\"_blank\" href=https://colab.research.google.com/notebooks/data_table.ipynb>data table notebook</a>'\n",
              "            + ' to learn more about interactive tables.';\n",
              "          element.innerHTML = '';\n",
              "          dataTable['output_type'] = 'display_data';\n",
              "          await google.colab.output.renderOutput(dataTable, element);\n",
              "          const docLink = document.createElement('div');\n",
              "          docLink.innerHTML = docLinkHtml;\n",
              "          element.appendChild(docLink);\n",
              "        }\n",
              "      </script>\n",
              "    </div>\n",
              "  </div>\n",
              "  "
            ],
            "text/plain": [
              "      airline_sentiment                                               text  \\\n",
              "1041           negative  @united Change made in just over 3 hours. For ...   \n",
              "1989           negative  @united The engineer that designed the 787 doo...   \n",
              "14309          negative  @AmericanAir 11 out of 11 delayed flights, you...   \n",
              "1711           negative                              @united ouch not fair   \n",
              "11542          negative  @USAirways stuck in cae need reFlight Booking ...   \n",
              "\n",
              "       target  \n",
              "1041        0  \n",
              "1989        0  \n",
              "14309       0  \n",
              "1711        0  \n",
              "11542       0  "
            ]
          },
          "execution_count": 86,
          "metadata": {},
          "output_type": "execute_result"
        }
      ],
      "source": [
        "df_train.head()"
      ]
    },
    {
      "cell_type": "code",
      "execution_count": null,
      "metadata": {
        "id": "ws15FL0leKGY"
      },
      "outputs": [],
      "source": [
        "vectorizer = TfidfVectorizer(max_features=2000)"
      ]
    },
    {
      "cell_type": "code",
      "execution_count": null,
      "metadata": {
        "id": "jvX9zUwkeQic"
      },
      "outputs": [],
      "source": [
        "X_train = vectorizer.fit_transform(df_train['text'])"
      ]
    },
    {
      "cell_type": "code",
      "execution_count": null,
      "metadata": {
        "colab": {
          "base_uri": "https://localhost:8080/"
        },
        "id": "vSy5gej7e2Zs",
        "outputId": "e4cf3f86-d0f3-4774-a500-a5fb2f6f2044"
      },
      "outputs": [
        {
          "data": {
            "text/plain": [
              "<37x487 sparse matrix of type '<class 'numpy.float64'>'\n",
              "\twith 821 stored elements in Compressed Sparse Row format>"
            ]
          },
          "execution_count": 89,
          "metadata": {},
          "output_type": "execute_result"
        }
      ],
      "source": [
        "X_train"
      ]
    },
    {
      "cell_type": "code",
      "execution_count": null,
      "metadata": {
        "id": "YYy76Lr1e6ED"
      },
      "outputs": [],
      "source": [
        "X_test = vectorizer.transform(df_test['text'])"
      ]
    },
    {
      "cell_type": "code",
      "execution_count": null,
      "metadata": {
        "id": "sRxG8ygEfREF"
      },
      "outputs": [],
      "source": [
        "Y_train = df_train['target']\n",
        "Y_test = df_test['target']"
      ]
    },
    {
      "cell_type": "code",
      "execution_count": null,
      "metadata": {
        "colab": {
          "base_uri": "https://localhost:8080/"
        },
        "id": "g9Yo6B21CKlc",
        "outputId": "c208095d-4356-4ca2-b7ca-2ce19ef2d731"
      },
      "outputs": [
        {
          "data": {
            "text/plain": [
              "negative    9178\n",
              "neutral     3099\n",
              "positive    2363\n",
              "Name: airline_sentiment, dtype: int64"
            ]
          },
          "execution_count": 95,
          "metadata": {},
          "output_type": "execute_result"
        }
      ],
      "source": [
        "df['airline_sentiment'].value_counts()"
      ]
    },
    {
      "cell_type": "code",
      "execution_count": null,
      "metadata": {
        "id": "gDIGhAziuQCX"
      },
      "outputs": [],
      "source": [
        "'''from sklearn import preprocessing\n",
        "from sklearn import utils\n",
        "\n",
        "lab_enc = preprocessing.LabelEncoder()\n",
        "encoded = lab_enc.fit_transform(target)\n",
        "\n",
        "print(utils.multiclass.type_of_target(target))\n",
        "\n",
        "print(utils.multiclass.type_of_target(target.astype('int')))\n",
        "\n",
        "print(utils.multiclass.type_of_target(target))'''"
      ]
    },
    {
      "cell_type": "code",
      "execution_count": null,
      "metadata": {
        "colab": {
          "base_uri": "https://localhost:8080/"
        },
        "id": "y0IQTgqYgjuW",
        "outputId": "4ae558a9-9f74-4339-eb9f-5248dd77ed2d"
      },
      "outputs": [
        {
          "name": "stdout",
          "output_type": "stream",
          "text": [
            "Train acc: 0.8548269581056467\n",
            "Test acc: 0.7991803278688525\n"
          ]
        }
      ],
      "source": [
        "model = LogisticRegression(max_iter =1000)\n",
        "model.fit(X_train,Y_train)\n",
        "print(\"Train acc:\",model.score(X_train,Y_train))\n",
        "print(\"Test acc:\",model.score(X_test,Y_test))"
      ]
    },
    {
      "cell_type": "code",
      "execution_count": null,
      "metadata": {
        "colab": {
          "base_uri": "https://localhost:8080/"
        },
        "id": "XTx_AKMik6GS",
        "outputId": "479dc78b-6496-4fd5-be5d-99060a2cb63b"
      },
      "outputs": [
        {
          "name": "stdout",
          "output_type": "stream",
          "text": [
            "Train AUC 0.9430961456387204\n",
            "Test AUC 0.8953996502217668\n"
          ]
        }
      ],
      "source": [
        "Pr_train = model.predict_proba(X_train)#[:, 1]\n",
        "Pr_test = model.predict_proba(X_test)#[:, 1]\n",
        "print(\"Train AUC\", roc_auc_score(Y_train,Pr_train,multi_class ='ovo'))\n",
        "print(\"Test AUC\", roc_auc_score(Y_test,Pr_test,multi_class ='ovo'))"
      ]
    },
    {
      "cell_type": "code",
      "execution_count": null,
      "metadata": {
        "id": "bg1--z25l48U"
      },
      "outputs": [],
      "source": [
        "P_train = model.predict(X_train)\n",
        "P_test = model.predict(X_test)\n"
      ]
    },
    {
      "cell_type": "code",
      "execution_count": null,
      "metadata": {
        "colab": {
          "base_uri": "https://localhost:8080/"
        },
        "id": "X21qdqOaqsmx",
        "outputId": "672fe3f8-d98f-41a6-d4f6-a231c4029907"
      },
      "outputs": [
        {
          "data": {
            "text/plain": [
              "array([[0.96486133, 0.00813126, 0.02700741],\n",
              "       [0.19966063, 0.69966063, 0.10067873],\n",
              "       [0.30150538, 0.0516129 , 0.64688172]])"
            ]
          },
          "execution_count": 99,
          "metadata": {},
          "output_type": "execute_result"
        }
      ],
      "source": [
        "cm = confusion_matrix(Y_train,P_train, normalize = \"true\")\n",
        "cm"
      ]
    },
    {
      "cell_type": "code",
      "execution_count": null,
      "metadata": {
        "colab": {
          "base_uri": "https://localhost:8080/",
          "height": 279
        },
        "id": "FGCu7Fpnq70G",
        "outputId": "78703146-4bea-45f2-bca3-948c0f8a3907"
      },
      "outputs": [
        {
          "data": {
            "image/png": "[encoded data removed]",
            "text/plain": [
              "<Figure size 432x288 with 2 Axes>"
            ]
          },
          "metadata": {},
          "output_type": "display_data"
        }
      ],
      "source": [
        "import pandas as pd\n",
        "\n",
        "def plot_cm(cm):\n",
        "  classes = ['negative','positive','neutral']\n",
        "  df_cm =pd.DataFrame(cm, index=classes, columns=classes)\n",
        "  ax =sn.heatmap(df_cm,annot=True, fmt ='g')\n",
        "  ax.set_xlabel(\"Predicted\")\n",
        "  ax.set_ylabel(\"Target\")\n",
        "\n",
        "plot_cm(cm)\n",
        "\n"
      ]
    },
    {
      "cell_type": "code",
      "execution_count": null,
      "metadata": {
        "colab": {
          "base_uri": "https://localhost:8080/",
          "height": 279
        },
        "id": "Vu81uP_1zQ9P",
        "outputId": "79f944ef-31ee-418d-d9cd-ae50f3392a77"
      },
      "outputs": [
        {
          "data": {
            "image/png": "[encoded data removed]",
            "text/plain": [
              "<Figure size 432x288 with 2 Axes>"
            ]
          },
          "metadata": {},
          "output_type": "display_data"
        }
      ],
      "source": [
        "cm_test =confusion_matrix(Y_test,P_test, normalize='true')\n",
        "plot_cm(cm_test)"
      ]
    },
    {
      "cell_type": "code",
      "execution_count": null,
      "metadata": {
        "colab": {
          "base_uri": "https://localhost:8080/"
        },
        "id": "plLkr7UjLxYE",
        "outputId": "17715c32-3345-4b38-e583-63430beb1445"
      },
      "outputs": [
        {
          "data": {
            "text/plain": [
              "negative    9178\n",
              "neutral     3099\n",
              "positive    2363\n",
              "Name: airline_sentiment, dtype: int64"
            ]
          },
          "execution_count": 104,
          "metadata": {},
          "output_type": "execute_result"
        }
      ],
      "source": [
        "df['airline_sentiment'].value_counts()\n"
      ]
    },
    {
      "cell_type": "code",
      "execution_count": null,
      "metadata": {
        "colab": {
          "base_uri": "https://localhost:8080/",
          "height": 143
        },
        "id": "k-rYGQc5L-eB",
        "outputId": "582ca68e-ca39-4b02-dc12-74fe0fd67abf"
      },
      "outputs": [
        {
          "data": {
            "text/html": [
              "\n",
              "  <div id=\"df-d732ec08-67cb-4871-b79e-d4045b0cb56b\">\n",
              "    <div class=\"colab-df-container\">\n",
              "      <div>\n",
              "<style scoped>\n",
              "    .dataframe tbody tr th:only-of-type {\n",
              "        vertical-align: middle;\n",
              "    }\n",
              "\n",
              "    .dataframe tbody tr th {\n",
              "        vertical-align: top;\n",
              "    }\n",
              "\n",
              "    .dataframe thead th {\n",
              "        text-align: right;\n",
              "    }\n",
              "</style>\n",
              "<table border=\"1\" class=\"dataframe\">\n",
              "  <thead>\n",
              "    <tr style=\"text-align: right;\">\n",
              "      <th></th>\n",
              "      <th>airline_sentiment</th>\n",
              "      <th>Counts</th>\n",
              "    </tr>\n",
              "  </thead>\n",
              "  <tbody>\n",
              "    <tr>\n",
              "      <th>0</th>\n",
              "      <td>negative</td>\n",
              "      <td>9178</td>\n",
              "    </tr>\n",
              "    <tr>\n",
              "      <th>1</th>\n",
              "      <td>neutral</td>\n",
              "      <td>3099</td>\n",
              "    </tr>\n",
              "    <tr>\n",
              "      <th>2</th>\n",
              "      <td>positive</td>\n",
              "      <td>2363</td>\n",
              "    </tr>\n",
              "  </tbody>\n",
              "</table>\n",
              "</div>\n",
              "      <button class=\"colab-df-convert\" onclick=\"convertToInteractive('df-d732ec08-67cb-4871-b79e-d4045b0cb56b')\"\n",
              "              title=\"Convert this dataframe to an interactive table.\"\n",
              "              style=\"display:none;\">\n",
              "        \n",
              "  <svg xmlns=\"http://www.w3.org/2000/svg\" height=\"24px\"viewBox=\"0 0 24 24\"\n",
              "       width=\"24px\">\n",
              "    <path d=\"M0 0h24v24H0V0z\" fill=\"none\"/>\n",
              "    <path d=\"M18.56 5.44l.94 2.06.94-2.06 2.06-.94-2.06-.94-.94-2.06-.94 2.06-2.06.94zm-11 1L8.5 8.5l.94-2.06 2.06-.94-2.06-.94L8.5 2.5l-.94 2.06-2.06.94zm10 10l.94 2.06.94-2.06 2.06-.94-2.06-.94-.94-2.06-.94 2.06-2.06.94z\"/><path d=\"M17.41 7.96l-1.37-1.37c-.4-.4-.92-.59-1.43-.59-.52 0-1.04.2-1.43.59L10.3 9.45l-7.72 7.72c-.78.78-.78 2.05 0 2.83L4 21.41c.39.39.9.59 1.41.59.51 0 1.02-.2 1.41-.59l7.78-7.78 2.81-2.81c.8-.78.8-2.07 0-2.86zM5.41 20L4 18.59l7.72-7.72 1.47 1.35L5.41 20z\"/>\n",
              "  </svg>\n",
              "      </button>\n",
              "      \n",
              "  <style>\n",
              "    .colab-df-container {\n",
              "      display:flex;\n",
              "      flex-wrap:wrap;\n",
              "      gap: 12px;\n",
              "    }\n",
              "\n",
              "    .colab-df-convert {\n",
              "      background-color: #E8F0FE;\n",
              "      border: none;\n",
              "      border-radius: 50%;\n",
              "      cursor: pointer;\n",
              "      display: none;\n",
              "      fill: #1967D2;\n",
              "      height: 32px;\n",
              "      padding: 0 0 0 0;\n",
              "      width: 32px;\n",
              "    }\n",
              "\n",
              "    .colab-df-convert:hover {\n",
              "      background-color: #E2EBFA;\n",
              "      box-shadow: 0px 1px 2px rgba(60, 64, 67, 0.3), 0px 1px 3px 1px rgba(60, 64, 67, 0.15);\n",
              "      fill: #174EA6;\n",
              "    }\n",
              "\n",
              "    [theme=dark] .colab-df-convert {\n",
              "      background-color: #3B4455;\n",
              "      fill: #D2E3FC;\n",
              "    }\n",
              "\n",
              "    [theme=dark] .colab-df-convert:hover {\n",
              "      background-color: #434B5C;\n",
              "      box-shadow: 0px 1px 3px 1px rgba(0, 0, 0, 0.15);\n",
              "      filter: drop-shadow(0px 1px 2px rgba(0, 0, 0, 0.3));\n",
              "      fill: #FFFFFF;\n",
              "    }\n",
              "  </style>\n",
              "\n",
              "      <script>\n",
              "        const buttonEl =\n",
              "          document.querySelector('#df-d732ec08-67cb-4871-b79e-d4045b0cb56b button.colab-df-convert');\n",
              "        buttonEl.style.display =\n",
              "          google.colab.kernel.accessAllowed ? 'block' : 'none';\n",
              "\n",
              "        async function convertToInteractive(key) {\n",
              "          const element = document.querySelector('#df-d732ec08-67cb-4871-b79e-d4045b0cb56b');\n",
              "          const dataTable =\n",
              "            await google.colab.kernel.invokeFunction('convertToInteractive',\n",
              "                                                     [key], {});\n",
              "          if (!dataTable) return;\n",
              "\n",
              "          const docLinkHtml = 'Like what you see? Visit the ' +\n",
              "            '<a target=\"_blank\" href=https://colab.research.google.com/notebooks/data_table.ipynb>data table notebook</a>'\n",
              "            + ' to learn more about interactive tables.';\n",
              "          element.innerHTML = '';\n",
              "          dataTable['output_type'] = 'display_data';\n",
              "          await google.colab.output.renderOutput(dataTable, element);\n",
              "          const docLink = document.createElement('div');\n",
              "          docLink.innerHTML = docLinkHtml;\n",
              "          element.appendChild(docLink);\n",
              "        }\n",
              "      </script>\n",
              "    </div>\n",
              "  </div>\n",
              "  "
            ],
            "text/plain": [
              "  airline_sentiment  Counts\n",
              "0          negative    9178\n",
              "1           neutral    3099\n",
              "2          positive    2363"
            ]
          },
          "execution_count": 103,
          "metadata": {},
          "output_type": "execute_result"
        }
      ],
      "source": [
        "Tweets = df.groupby(['airline_sentiment']).size().reset_index(name='Counts')\n",
        "Tweets"
      ]
    },
    {
      "cell_type": "code",
      "execution_count": null,
      "metadata": {
        "id": "AMj9rcnk7wiP"
      },
      "outputs": [],
      "source": [
        "'''import re\n",
        "\n",
        "emoticons_happy = set([\n",
        "    ':-)', ':)', ';)', ':o)', ':]', ':3', ':c)', ':>', '=]', '8)', '=)', ':}',\n",
        "    ':^)', ':-D', ':D', '8-D', '8D', 'x-D', 'xD', 'X-D', 'XD', '=-D', '=D',\n",
        "    '=-3', '=3', ':-))', \":'-)\", \":')\", ':*', ':^*', '>:P', ':-P', ':P', 'X-P',\n",
        "    'x-p', 'xp', 'XP', ':-p', ':p', '=p', ':-b', ':b', '>:)', '>;)', '>:-)',\n",
        "    '<3'\n",
        "    ])\n",
        "\n",
        "emoticons_sad = set([\n",
        "    ':L', ':-/', '>:/', ':S', '>:[', ':@', ':-(', ':[', ':-||', '=L', ':<',\n",
        "    ':-[', ':-<', '=\\\\', '=/', '>:(', ':(', '>.<', \":'-(\", \":'(\", ':\\\\', ':-c',\n",
        "    ':c', ':{', '>:\\\\', ';('\n",
        "    ])\n",
        "\n",
        "emoji_pattern = re.compile(\"[\"\n",
        "         u\"\\U0001F600-\\U0001F64F\"  # emoticons\n",
        "         u\"\\U0001F300-\\U0001F5FF\"  # symbols & pictographs\n",
        "         u\"\\U0001F680-\\U0001F6FF\"  # transport & map symbols\n",
        "         u\"\\U0001F1E0-\\U0001F1FF\"  # flags (iOS)\n",
        "         u\"\\U00002702-\\U000027B0\"\n",
        "         u\"\\U000024C2-\\U0001F251\"\n",
        "         \"]+\", flags=re.UNICODE)\n",
        "\n",
        "emoticons = emoticons_happy.union(emoticons_sad)\n",
        "'''"
      ]
    },
    {
      "cell_type": "code",
      "execution_count": null,
      "metadata": {
        "id": "Fxr-udkbWSCg"
      },
      "outputs": [],
      "source": [
        "'''import string\n",
        "from collections import Counter\n",
        "\n",
        "import matplotlib.pyplot as plt\n",
        "from nltk.corpus import stopwords\n",
        "from nltk.sentiment.vader import SentimentIntensityAnalyzer\n",
        "from nltk.stem import WordNetLemmatizer\n",
        "from nltk.tokenize import word_tokenize\n",
        "import string\n",
        "\n",
        "text =  open('extracted.csv',encoding='utf-8').read()\n",
        "lower_case = text.lower()\n",
        "cleaned_text= lower_case.translate(str.maketrans('','',string.punctuation))\n",
        "\n",
        "tokenized_words = cleaned_text.split()\n",
        "\n",
        "\n",
        "stop_words = [\"i\", \"me\", \"my\", \"myself\", \"we\", \"our\", \"ours\", \"ourselves\", \"you\", \"your\", \"yours\", \"yourself\",\n",
        "              \"yourselves\", \"he\", \"him\", \"his\", \"himself\", \"she\", \"her\", \"hers\", \"herself\", \"it\", \"its\", \"itself\",\n",
        "              \"they\", \"them\", \"their\", \"theirs\", \"themselves\", \"what\", \"which\", \"who\", \"whom\", \"this\", \"that\", \"these\",\n",
        "              \"those\", \"am\", \"is\", \"are\", \"was\", \"were\", \"be\", \"been\", \"being\", \"have\", \"has\", \"had\", \"having\", \"do\",\n",
        "              \"does\", \"did\", \"doing\", \"a\", \"an\", \"the\", \"and\", \"but\", \"if\", \"or\", \"because\", \"as\", \"until\", \"while\",\n",
        "              \"of\", \"at\", \"by\", \"for\", \"with\", \"about\", \"against\", \"between\", \"into\", \"through\", \"during\", \"before\",\n",
        "              \"after\", \"above\", \"below\", \"to\", \"from\", \"up\", \"down\", \"in\", \"out\", \"on\", \"off\", \"over\", \"under\", \"again\",\n",
        "              \"further\", \"then\", \"once\", \"here\", \"there\", \"when\", \"where\", \"why\", \"how\", \"all\", \"any\", \"both\", \"each\",\n",
        "              \"few\", \"more\", \"most\", \"other\", \"some\", \"such\", \"no\", \"nor\", \"not\", \"only\", \"own\", \"same\", \"so\", \"than\",\n",
        "              \"too\", \"very\", \"s\", \"t\", \"can\", \"will\", \"just\", \"don\", \"should\", \"now\"]\n",
        "\n",
        "final_words = []\n",
        "for word in tokenized_words:\n",
        "    if word not in stop_words:\n",
        "        final_words.append(word)\n",
        "\n",
        "print(final_words)'''\n",
        "\n"
      ]
    },
    {
      "cell_type": "code",
      "source": [
        "'''import os\n",
        "import sys\n",
        "\n",
        "if __name__ == '__main__':\n",
        "    os.environ.setdefault('DJANGO_SETTINGS_MODULE', 'sentiment_emotion_analysis.settings')\n",
        "    try:\n",
        "        from django.core.management import execute_from_command_line\n",
        "    except ImportError as exc:\n",
        "        raise ImportError(\n",
        "            \"Couldn't import Django. Are you sure it's installed and \"\n",
        "            \"available on your PYTHONPATH environment variable? Did you \"\n",
        "            \"forget to activate a virtual environment?\"\n",
        "        ) from exc\n",
        "    execute_from_command_line(sys.argv)'''"
      ],
      "metadata": {
        "id": "aclJ__f5P9Rd"
      },
      "execution_count": null,
      "outputs": []
    },
    {
      "cell_type": "code",
      "source": [
        "import pickle\n",
        "\n",
        "pickle.dump(vectorizer, open(\"vectorizer.pkl\", \"wb\"))"
      ],
      "metadata": {
        "id": "8qjmNnSlAk46"
      },
      "execution_count": 49,
      "outputs": []
    },
    {
      "cell_type": "code",
      "source": [
        "#Model optimization using GridSearchCV\n",
        "\n",
        "parameters = {'C': [1,4,8,16,32] ,'kernel':['linear', 'rbf']}\n",
        "model = SVC()\n",
        "model_grid = GridSearchCV(model,parameters, cv=5)\n",
        "\n",
        "model_grid.fit(X_train,Y_train)\n",
        "\n",
        "print(model_grid.best_params_)\n",
        "print(model_grid.best_estimator_)"
      ],
      "metadata": {
        "colab": {
          "base_uri": "https://localhost:8080/"
        },
        "id": "sT21eOwDBxwQ",
        "outputId": "8656db20-f14f-45d1-c289-f169925b2372"
      },
      "execution_count": 50,
      "outputs": [
        {
          "output_type": "stream",
          "name": "stdout",
          "text": [
            "{'C': 1, 'kernel': 'linear'}\n",
            "SVC(C=1, kernel='linear')\n"
          ]
        }
      ]
    },
    {
      "cell_type": "code",
      "source": [
        "filename = 'sentiment_analysis.pkl'\n",
        "\n",
        "pickle.dump(model_grid, open(filename, 'wb'))\n",
        "\n",
        "#Load and test saved model\n",
        "loaded_model = pickle.load(open(filename, 'rb'))\n",
        "\n",
        "review = [\"This is pretty much the worse movie I have ever watched. It's completely thrash!\"]\n",
        "new_review = vectorizer.transform(review)\n",
        "\n",
        "result = loaded_model.predict(new_review)\n",
        "print(result)"
      ],
      "metadata": {
        "colab": {
          "base_uri": "https://localhost:8080/"
        },
        "id": "h9BJOUvOZOva",
        "outputId": "2d91ae78-ddb1-41ed-d72d-b9c428c9d673"
      },
      "execution_count": 51,
      "outputs": [
        {
          "output_type": "stream",
          "name": "stdout",
          "text": [
            "[1]\n"
          ]
        }
      ]
    }
  ],
  "metadata": {
    "colab": {
      "provenance": [],
      "authorship_tag": "ABX9TyNbLuhzl0saSAv7lVfoaqpn",
      "include_colab_link": true
    },
    "kernelspec": {
      "display_name": "Python 3",
      "name": "python3"
    },
    "language_info": {
      "name": "python"
    }
  },
  "nbformat": 4,
  "nbformat_minor": 0
}